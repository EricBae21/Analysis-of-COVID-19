{
 "cells": [
  {
   "cell_type": "code",
   "execution_count": null,
   "metadata": {},
   "outputs": [],
   "source": [
    "import pandas as pd\n",
    "import numpy as np\n",
    "import matplotlib as plt\n",
    "import seaborn as sns\n",
    "import os"
   ]
  },
  {
   "cell_type": "code",
   "execution_count": null,
   "metadata": {},
   "outputs": [],
   "source": [
    "data = pd.read_csv(os.path.expanduser(\"../Data/COVID-19_Reported_Patient_Impact_and_Hospital_Capacity_by_Facility.csv\")).head(700000)\n",
    "\n",
    "\n",
    "\n",
    "\n",
    "clean = data[['inpatient_beds_used_covid_7_day_sum',\n",
    "'inpatient_beds_used_7_day_sum',\n",
    "'all_adult_hospital_inpatient_bed_occupied_7_day_sum',\n",
    "'inpatient_beds_7_day_sum',\n",
    "'total_patients_hospitalized_confirmed_influenza_7_day_sum',\n",
    "'previous_day_admission_adult_covid_confirmed_7_day_sum']]\n",
    "\n",
    "clean.head(20)\n",
    "\n",
    "noNan = clean.dropna()\n",
    "\n",
    "\n",
    "for col in noNan.columns:\n",
    "    try:\n",
    "        if noNan[col].dtype < 0:\n",
    "            noNan = noNan.drop(col, axis=0)\n",
    "        else:\n",
    "            pass\n",
    "    except TypeError:\n",
    "        pass\n",
    "\n"
   ]
  },
  {
   "cell_type": "code",
   "execution_count": null,
   "metadata": {},
   "outputs": [],
   "source": [
    "noNan['all_adult_hospital_inpatient_bed_occupied_7_day_sum'].unique()"
   ]
  },
  {
   "cell_type": "code",
   "execution_count": null,
   "metadata": {},
   "outputs": [],
   "source": []
  },
  {
   "cell_type": "code",
   "execution_count": null,
   "metadata": {},
   "outputs": [],
   "source": [
    "data = pd.read_csv(os.path.expanduser(\"../Data/COVID-19_Reported_Patient_Impact_and_Hospital_Capacity_by_Facility.csv\")).head(70000)\n",
    "clean = data\n",
    "clean = clean.drop(['total_beds_7_day_avg',\n",
    " 'all_adult_hospital_beds_7_day_avg',\n",
    " 'all_adult_hospital_inpatient_beds_7_day_avg',\n",
    " 'inpatient_beds_used_7_day_avg',\n",
    " 'all_adult_hospital_inpatient_bed_occupied_7_day_avg',\n",
    " 'inpatient_beds_used_covid_7_day_avg', \n",
    " 'total_adult_patients_hospitalized_confirmed_and_suspected_covid_7_day_avg',\n",
    " 'total_adult_patients_hospitalized_confirmed_covid_7_day_avg',\n",
    " 'total_pediatric_patients_hospitalized_confirmed_and_suspected_covid_7_day_avg',\n",
    " 'total_pediatric_patients_hospitalized_confirmed_covid_7_day_avg',\n",
    " 'inpatient_beds_7_day_avg',\n",
    " 'total_icu_beds_7_day_avg',\n",
    " 'total_staffed_adult_icu_beds_7_day_avg',\n",
    " 'icu_beds_used_7_day_avg',\n",
    " 'staffed_adult_icu_bed_occupancy_7_day_avg',\n",
    " 'staffed_icu_adult_patients_confirmed_and_suspected_covid_7_day_avg',\n",
    " 'staffed_icu_adult_patients_confirmed_covid_7_day_avg',\n",
    " 'total_patients_hospitalized_confirmed_influenza_7_day_avg',\n",
    " 'icu_patients_confirmed_influenza_7_day_avg',\n",
    " 'total_patients_hospitalized_confirmed_influenza_and_covid_7_day_avg',\n",
    " 'all_pediatric_inpatient_bed_occupied_7_day_avg',\n",
    " 'all_pediatric_inpatient_beds_7_day_avg',\n",
    " 'staffed_icu_pediatric_patients_confirmed_covid_7_day_avg',\n",
    " 'staffed_pediatric_icu_bed_occupancy_7_day_avg',\n",
    " 'total_staffed_pediatric_icu_beds_7_day_avg',\n",
    " 'total_beds_7_day_coverage',\n",
    " 'all_adult_hospital_beds_7_day_coverage',\n",
    " 'all_adult_hospital_inpatient_beds_7_day_coverage',\n",
    " 'inpatient_beds_used_7_day_coverage',\n",
    " 'all_adult_hospital_inpatient_bed_occupied_7_day_coverage',\n",
    " 'inpatient_beds_used_covid_7_day_coverage',\n",
    " 'total_adult_patients_hospitalized_confirmed_and_suspected_covid_7_day_coverage',\n",
    " 'total_adult_patients_hospitalized_confirmed_covid_7_day_coverage',\n",
    " 'total_pediatric_patients_hospitalized_confirmed_and_suspected_covid_7_day_coverage',\n",
    " 'total_pediatric_patients_hospitalized_confirmed_covid_7_day_coverage',\n",
    " 'inpatient_beds_7_day_coverage',\n",
    " 'total_icu_beds_7_day_coverage',\n",
    " 'total_staffed_adult_icu_beds_7_day_coverage',\n",
    " 'icu_beds_used_7_day_coverage',\n",
    " 'staffed_adult_icu_bed_occupancy_7_day_coverage',\n",
    " 'staffed_icu_adult_patients_confirmed_and_suspected_covid_7_day_coverage',\n",
    " 'staffed_icu_adult_patients_confirmed_covid_7_day_coverage',\n",
    " 'total_patients_hospitalized_confirmed_influenza_7_day_coverage',\n",
    " 'icu_patients_confirmed_influenza_7_day_coverage',\n",
    " 'total_patients_hospitalized_confirmed_influenza_and_covid_7_day_coverage',\n",
    " 'previous_day_admission_adult_covid_confirmed_7_day_coverage',\n",
    " 'previous_day_admission_pediatric_covid_confirmed_7_day_coverage',\n",
    " 'previous_day_admission_adult_covid_suspected_7_day_coverage',\n",
    " 'previous_day_admission_pediatric_covid_suspected_7_day_coverage',\n",
    " 'all_pediatric_inpatient_bed_occupied_7_day_coverage',\n",
    " 'all_pediatric_inpatient_beds_7_day_coverage',\n",
    " 'staffed_icu_pediatric_patients_confirmed_covid_7_day_coverage',\n",
    " 'staffed_pediatric_icu_bed_occupancy_7_day_coverage',\n",
    " 'total_staffed_pediatric_icu_beds_7_day_coverage',\n",
    "  ], axis=1)\n",
    "# clean.to_csv('clean_df')\n",
    "clean.head()\n"
   ]
  },
  {
   "cell_type": "code",
   "execution_count": null,
   "metadata": {},
   "outputs": [],
   "source": [
    "\n",
    "clean.head()\n"
   ]
  },
  {
   "cell_type": "code",
   "execution_count": null,
   "metadata": {},
   "outputs": [],
   "source": [
    "def ifZero(x):\n",
    "    if x < 0:\n",
    "        return 0\n",
    "    return x\n",
    "\n",
    "clean['total_patients_hospitalized_confirmed_covid_7_day_sum'] = clean['total_pediatric_patients_hospitalized_confirmed_covid_7_day_sum'].apply(ifZero).fillna(0) + clean['total_adult_patients_hospitalized_confirmed_covid_7_day_sum'].apply(ifZero).fillna(0)\n",
    "clean = clean.drop(['total_pediatric_patients_hospitalized_confirmed_covid_7_day_sum', \n",
    "                    'total_adult_patients_hospitalized_confirmed_covid_7_day_sum'], axis=1)\n",
    "clean.head()"
   ]
  },
  {
   "cell_type": "code",
   "execution_count": null,
   "metadata": {},
   "outputs": [],
   "source": [
    "clean['total_hospital_inpatient_beds_7_day_sum'] = clean['all_adult_hospital_inpatient_beds_7_day_sum'].apply(ifZero).fillna(0) + clean['all_pediatric_inpatient_beds_7_day_sum'].apply(ifZero).fillna(0)\n",
    "clean = clean.drop(['all_adult_hospital_inpatient_beds_7_day_sum', \n",
    "                    'all_pediatric_inpatient_beds_7_day_sum'], axis=1)\n",
    "clean.head()"
   ]
  },
  {
   "cell_type": "code",
   "execution_count": null,
   "metadata": {},
   "outputs": [],
   "source": [
    "\n",
    "clean['total_patients_hospitalized_confirmed_and_suspected_covid_7_day_sum'] = clean['total_adult_patients_hospitalized_confirmed_and_suspected_covid_7_day_sum'].apply(ifZero).fillna(0) + clean['total_pediatric_patients_hospitalized_confirmed_and_suspected_covid_7_day_sum'].apply(ifZero).fillna(0)\n",
    "clean = clean.drop(['total_adult_patients_hospitalized_confirmed_and_suspected_covid_7_day_sum', \n",
    "                    'total_pediatric_patients_hospitalized_confirmed_and_suspected_covid_7_day_sum'], axis=1)\n",
    "clean.head()"
   ]
  },
  {
   "cell_type": "code",
   "execution_count": null,
   "metadata": {},
   "outputs": [],
   "source": [
    "clean['inpatient_beds_used_covid_7_day_sum'] = clean['inpatient_beds_used_covid_7_day_sum'].apply(ifZero).fillna(0)"
   ]
  },
  {
   "cell_type": "code",
   "execution_count": null,
   "metadata": {},
   "outputs": [],
   "source": [
    "clean['all_adult_hospital_inpatient_bed_occupied_7_day_sum'] = clean['all_adult_hospital_inpatient_bed_occupied_7_day_sum'].apply(ifZero).fillna(0)"
   ]
  },
  {
   "cell_type": "code",
   "execution_count": null,
   "metadata": {},
   "outputs": [],
   "source": [
    "clean['total_patients_hospitalized_confirmed_influenza_7_day_sum'] = clean['all_adult_hospital_inpatient_bed_occupied_7_day_sum'].apply(ifZero).fillna(0)"
   ]
  },
  {
   "cell_type": "code",
   "execution_count": null,
   "metadata": {},
   "outputs": [],
   "source": [
    "clean['all_adult_hospital_inpatient_bed_occupied_7_day_sum'] = clean['all_adult_hospital_inpatient_bed_occupied_7_day_sum'].apply(ifZero).fillna(0)"
   ]
  },
  {
   "cell_type": "code",
   "execution_count": null,
   "metadata": {},
   "outputs": [],
   "source": [
    "clean['inpatient_beds_7_day_sum'] = clean['inpatient_beds_7_day_sum'].apply(ifZero).fillna(0)"
   ]
  },
  {
   "cell_type": "code",
   "execution_count": null,
   "metadata": {},
   "outputs": [],
   "source": [
    "clean['inpatient_beds_used_7_day_sum'] = clean['inpatient_beds_used_7_day_sum'].apply(ifZero).fillna(0)"
   ]
  },
  {
   "cell_type": "code",
   "execution_count": null,
   "metadata": {},
   "outputs": [],
   "source": [
    "clean['previous_day_admission_adult_covid_confirmed_7_day_sum'] = clean['previous_day_admission_adult_covid_confirmed_7_day_sum'].apply(ifZero).fillna(0)"
   ]
  },
  {
   "cell_type": "code",
   "execution_count": null,
   "metadata": {},
   "outputs": [],
   "source": [
    "data = pd.read_csv(os.path.expanduser(\"../Data/COVID-19_Reported_Patient_Impact_and_Hospital_Capacity_by_Facility.csv\")).head(700000)\n",
    "\n",
    "\n",
    "\n",
    "\n",
    "clean = data[['inpatient_beds_used_covid_7_day_sum',\n",
    "'inpatient_beds_used_7_day_sum',\n",
    "'all_adult_hospital_inpatient_bed_occupied_7_day_sum',\n",
    "'inpatient_beds_7_day_sum',\n",
    "'total_patients_hospitalized_confirmed_influenza_7_day_sum',\n",
    "'previous_day_admission_adult_covid_confirmed_7_day_sum']]\n",
    "\n",
    "clean.head(20)\n",
    "\n",
    "data = clean.dropna()\n",
    "\n",
    "for col in data.columns:\n",
    "    try:\n",
    "        data = data[data[col] >= 0]\n",
    "    except TypeError:\n",
    "        pass\n",
    "    \n",
    "cleanV4 = data\n",
    "cleanV4.to_csv('cleanV4.csv')\n"
   ]
  },
  {
   "cell_type": "code",
   "execution_count": null,
   "metadata": {},
   "outputs": [],
   "source": [
    "cleanV4.to_csv('cleanV5.csv')"
   ]
  }
 ],
 "metadata": {
  "kernelspec": {
   "display_name": "Python 3.10.0 64-bit",
   "language": "python",
   "name": "python3"
  },
  "language_info": {
   "codemirror_mode": {
    "name": "ipython",
    "version": 3
   },
   "file_extension": ".py",
   "mimetype": "text/x-python",
   "name": "python",
   "nbconvert_exporter": "python",
   "pygments_lexer": "ipython3",
   "version": "3.9.1"
  },
  "orig_nbformat": 4,
  "vscode": {
   "interpreter": {
    "hash": "aee8b7b246df8f9039afb4144a1f6fd8d2ca17a180786b69acc140d282b71a49"
   }
  }
 },
 "nbformat": 4,
 "nbformat_minor": 2
}
