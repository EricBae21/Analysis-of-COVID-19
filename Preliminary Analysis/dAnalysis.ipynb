{
 "cells": [
  {
   "cell_type": "code",
   "execution_count": 2,
   "metadata": {},
   "outputs": [],
   "source": [
    "import numpy as np\n",
    "import pandas as pd\n",
    "import matplotlib.pyplot as plt\n",
    "import seaborn as sns\n",
    "import os\n"
   ]
  },
  {
   "cell_type": "code",
   "execution_count": 3,
   "metadata": {},
   "outputs": [
    {
     "ename": "FileNotFoundError",
     "evalue": "[Errno 2] No such file or directory: '../Data/COVID-19_Reported_Patient_Impact_and_Hospital_Capacity_by_Facility.csv'",
     "output_type": "error",
     "traceback": [
      "\u001b[1;31m---------------------------------------------------------------------------\u001b[0m",
      "\u001b[1;31mFileNotFoundError\u001b[0m                         Traceback (most recent call last)",
      "\u001b[1;32mc:\\Code\\Analysis-of-COVID-19\\Preliminary Analysis\\dAnalysis.ipynb Cell 2\u001b[0m in \u001b[0;36m<cell line: 1>\u001b[1;34m()\u001b[0m\n\u001b[1;32m----> <a href='vscode-notebook-cell:/c%3A/Code/Analysis-of-COVID-19/Preliminary%20Analysis/dAnalysis.ipynb#W1sZmlsZQ%3D%3D?line=0'>1</a>\u001b[0m data \u001b[39m=\u001b[39m pd\u001b[39m.\u001b[39;49mread_csv(os\u001b[39m.\u001b[39;49mpath\u001b[39m.\u001b[39;49mexpanduser(\u001b[39m\"\u001b[39;49m\u001b[39m../Data/COVID-19_Reported_Patient_Impact_and_Hospital_Capacity_by_Facility.csv\u001b[39;49m\u001b[39m\"\u001b[39;49m))\u001b[39m.\u001b[39mhead(\u001b[39m30000\u001b[39m)\u001b[39m.\u001b[39msort_values([\u001b[39m'\u001b[39m\u001b[39mstate\u001b[39m\u001b[39m'\u001b[39m])\n",
      "File \u001b[1;32mc:\\Users\\derek\\.virtualenvs\\DataScience-FoTI7s4Z\\lib\\site-packages\\pandas\\util\\_decorators.py:311\u001b[0m, in \u001b[0;36mdeprecate_nonkeyword_arguments.<locals>.decorate.<locals>.wrapper\u001b[1;34m(*args, **kwargs)\u001b[0m\n\u001b[0;32m    305\u001b[0m \u001b[39mif\u001b[39;00m \u001b[39mlen\u001b[39m(args) \u001b[39m>\u001b[39m num_allow_args:\n\u001b[0;32m    306\u001b[0m     warnings\u001b[39m.\u001b[39mwarn(\n\u001b[0;32m    307\u001b[0m         msg\u001b[39m.\u001b[39mformat(arguments\u001b[39m=\u001b[39marguments),\n\u001b[0;32m    308\u001b[0m         \u001b[39mFutureWarning\u001b[39;00m,\n\u001b[0;32m    309\u001b[0m         stacklevel\u001b[39m=\u001b[39mstacklevel,\n\u001b[0;32m    310\u001b[0m     )\n\u001b[1;32m--> 311\u001b[0m \u001b[39mreturn\u001b[39;00m func(\u001b[39m*\u001b[39margs, \u001b[39m*\u001b[39m\u001b[39m*\u001b[39mkwargs)\n",
      "File \u001b[1;32mc:\\Users\\derek\\.virtualenvs\\DataScience-FoTI7s4Z\\lib\\site-packages\\pandas\\io\\parsers\\readers.py:680\u001b[0m, in \u001b[0;36mread_csv\u001b[1;34m(filepath_or_buffer, sep, delimiter, header, names, index_col, usecols, squeeze, prefix, mangle_dupe_cols, dtype, engine, converters, true_values, false_values, skipinitialspace, skiprows, skipfooter, nrows, na_values, keep_default_na, na_filter, verbose, skip_blank_lines, parse_dates, infer_datetime_format, keep_date_col, date_parser, dayfirst, cache_dates, iterator, chunksize, compression, thousands, decimal, lineterminator, quotechar, quoting, doublequote, escapechar, comment, encoding, encoding_errors, dialect, error_bad_lines, warn_bad_lines, on_bad_lines, delim_whitespace, low_memory, memory_map, float_precision, storage_options)\u001b[0m\n\u001b[0;32m    665\u001b[0m kwds_defaults \u001b[39m=\u001b[39m _refine_defaults_read(\n\u001b[0;32m    666\u001b[0m     dialect,\n\u001b[0;32m    667\u001b[0m     delimiter,\n\u001b[1;32m   (...)\u001b[0m\n\u001b[0;32m    676\u001b[0m     defaults\u001b[39m=\u001b[39m{\u001b[39m\"\u001b[39m\u001b[39mdelimiter\u001b[39m\u001b[39m\"\u001b[39m: \u001b[39m\"\u001b[39m\u001b[39m,\u001b[39m\u001b[39m\"\u001b[39m},\n\u001b[0;32m    677\u001b[0m )\n\u001b[0;32m    678\u001b[0m kwds\u001b[39m.\u001b[39mupdate(kwds_defaults)\n\u001b[1;32m--> 680\u001b[0m \u001b[39mreturn\u001b[39;00m _read(filepath_or_buffer, kwds)\n",
      "File \u001b[1;32mc:\\Users\\derek\\.virtualenvs\\DataScience-FoTI7s4Z\\lib\\site-packages\\pandas\\io\\parsers\\readers.py:575\u001b[0m, in \u001b[0;36m_read\u001b[1;34m(filepath_or_buffer, kwds)\u001b[0m\n\u001b[0;32m    572\u001b[0m _validate_names(kwds\u001b[39m.\u001b[39mget(\u001b[39m\"\u001b[39m\u001b[39mnames\u001b[39m\u001b[39m\"\u001b[39m, \u001b[39mNone\u001b[39;00m))\n\u001b[0;32m    574\u001b[0m \u001b[39m# Create the parser.\u001b[39;00m\n\u001b[1;32m--> 575\u001b[0m parser \u001b[39m=\u001b[39m TextFileReader(filepath_or_buffer, \u001b[39m*\u001b[39m\u001b[39m*\u001b[39mkwds)\n\u001b[0;32m    577\u001b[0m \u001b[39mif\u001b[39;00m chunksize \u001b[39mor\u001b[39;00m iterator:\n\u001b[0;32m    578\u001b[0m     \u001b[39mreturn\u001b[39;00m parser\n",
      "File \u001b[1;32mc:\\Users\\derek\\.virtualenvs\\DataScience-FoTI7s4Z\\lib\\site-packages\\pandas\\io\\parsers\\readers.py:934\u001b[0m, in \u001b[0;36mTextFileReader.__init__\u001b[1;34m(self, f, engine, **kwds)\u001b[0m\n\u001b[0;32m    931\u001b[0m     \u001b[39mself\u001b[39m\u001b[39m.\u001b[39moptions[\u001b[39m\"\u001b[39m\u001b[39mhas_index_names\u001b[39m\u001b[39m\"\u001b[39m] \u001b[39m=\u001b[39m kwds[\u001b[39m\"\u001b[39m\u001b[39mhas_index_names\u001b[39m\u001b[39m\"\u001b[39m]\n\u001b[0;32m    933\u001b[0m \u001b[39mself\u001b[39m\u001b[39m.\u001b[39mhandles: IOHandles \u001b[39m|\u001b[39m \u001b[39mNone\u001b[39;00m \u001b[39m=\u001b[39m \u001b[39mNone\u001b[39;00m\n\u001b[1;32m--> 934\u001b[0m \u001b[39mself\u001b[39m\u001b[39m.\u001b[39m_engine \u001b[39m=\u001b[39m \u001b[39mself\u001b[39;49m\u001b[39m.\u001b[39;49m_make_engine(f, \u001b[39mself\u001b[39;49m\u001b[39m.\u001b[39;49mengine)\n",
      "File \u001b[1;32mc:\\Users\\derek\\.virtualenvs\\DataScience-FoTI7s4Z\\lib\\site-packages\\pandas\\io\\parsers\\readers.py:1218\u001b[0m, in \u001b[0;36mTextFileReader._make_engine\u001b[1;34m(self, f, engine)\u001b[0m\n\u001b[0;32m   1214\u001b[0m     mode \u001b[39m=\u001b[39m \u001b[39m\"\u001b[39m\u001b[39mrb\u001b[39m\u001b[39m\"\u001b[39m\n\u001b[0;32m   1215\u001b[0m \u001b[39m# error: No overload variant of \"get_handle\" matches argument types\u001b[39;00m\n\u001b[0;32m   1216\u001b[0m \u001b[39m# \"Union[str, PathLike[str], ReadCsvBuffer[bytes], ReadCsvBuffer[str]]\"\u001b[39;00m\n\u001b[0;32m   1217\u001b[0m \u001b[39m# , \"str\", \"bool\", \"Any\", \"Any\", \"Any\", \"Any\", \"Any\"\u001b[39;00m\n\u001b[1;32m-> 1218\u001b[0m \u001b[39mself\u001b[39m\u001b[39m.\u001b[39mhandles \u001b[39m=\u001b[39m get_handle(  \u001b[39m# type: ignore[call-overload]\u001b[39;49;00m\n\u001b[0;32m   1219\u001b[0m     f,\n\u001b[0;32m   1220\u001b[0m     mode,\n\u001b[0;32m   1221\u001b[0m     encoding\u001b[39m=\u001b[39;49m\u001b[39mself\u001b[39;49m\u001b[39m.\u001b[39;49moptions\u001b[39m.\u001b[39;49mget(\u001b[39m\"\u001b[39;49m\u001b[39mencoding\u001b[39;49m\u001b[39m\"\u001b[39;49m, \u001b[39mNone\u001b[39;49;00m),\n\u001b[0;32m   1222\u001b[0m     compression\u001b[39m=\u001b[39;49m\u001b[39mself\u001b[39;49m\u001b[39m.\u001b[39;49moptions\u001b[39m.\u001b[39;49mget(\u001b[39m\"\u001b[39;49m\u001b[39mcompression\u001b[39;49m\u001b[39m\"\u001b[39;49m, \u001b[39mNone\u001b[39;49;00m),\n\u001b[0;32m   1223\u001b[0m     memory_map\u001b[39m=\u001b[39;49m\u001b[39mself\u001b[39;49m\u001b[39m.\u001b[39;49moptions\u001b[39m.\u001b[39;49mget(\u001b[39m\"\u001b[39;49m\u001b[39mmemory_map\u001b[39;49m\u001b[39m\"\u001b[39;49m, \u001b[39mFalse\u001b[39;49;00m),\n\u001b[0;32m   1224\u001b[0m     is_text\u001b[39m=\u001b[39;49mis_text,\n\u001b[0;32m   1225\u001b[0m     errors\u001b[39m=\u001b[39;49m\u001b[39mself\u001b[39;49m\u001b[39m.\u001b[39;49moptions\u001b[39m.\u001b[39;49mget(\u001b[39m\"\u001b[39;49m\u001b[39mencoding_errors\u001b[39;49m\u001b[39m\"\u001b[39;49m, \u001b[39m\"\u001b[39;49m\u001b[39mstrict\u001b[39;49m\u001b[39m\"\u001b[39;49m),\n\u001b[0;32m   1226\u001b[0m     storage_options\u001b[39m=\u001b[39;49m\u001b[39mself\u001b[39;49m\u001b[39m.\u001b[39;49moptions\u001b[39m.\u001b[39;49mget(\u001b[39m\"\u001b[39;49m\u001b[39mstorage_options\u001b[39;49m\u001b[39m\"\u001b[39;49m, \u001b[39mNone\u001b[39;49;00m),\n\u001b[0;32m   1227\u001b[0m )\n\u001b[0;32m   1228\u001b[0m \u001b[39massert\u001b[39;00m \u001b[39mself\u001b[39m\u001b[39m.\u001b[39mhandles \u001b[39mis\u001b[39;00m \u001b[39mnot\u001b[39;00m \u001b[39mNone\u001b[39;00m\n\u001b[0;32m   1229\u001b[0m f \u001b[39m=\u001b[39m \u001b[39mself\u001b[39m\u001b[39m.\u001b[39mhandles\u001b[39m.\u001b[39mhandle\n",
      "File \u001b[1;32mc:\\Users\\derek\\.virtualenvs\\DataScience-FoTI7s4Z\\lib\\site-packages\\pandas\\io\\common.py:786\u001b[0m, in \u001b[0;36mget_handle\u001b[1;34m(path_or_buf, mode, encoding, compression, memory_map, is_text, errors, storage_options)\u001b[0m\n\u001b[0;32m    781\u001b[0m \u001b[39melif\u001b[39;00m \u001b[39misinstance\u001b[39m(handle, \u001b[39mstr\u001b[39m):\n\u001b[0;32m    782\u001b[0m     \u001b[39m# Check whether the filename is to be opened in binary mode.\u001b[39;00m\n\u001b[0;32m    783\u001b[0m     \u001b[39m# Binary mode does not support 'encoding' and 'newline'.\u001b[39;00m\n\u001b[0;32m    784\u001b[0m     \u001b[39mif\u001b[39;00m ioargs\u001b[39m.\u001b[39mencoding \u001b[39mand\u001b[39;00m \u001b[39m\"\u001b[39m\u001b[39mb\u001b[39m\u001b[39m\"\u001b[39m \u001b[39mnot\u001b[39;00m \u001b[39min\u001b[39;00m ioargs\u001b[39m.\u001b[39mmode:\n\u001b[0;32m    785\u001b[0m         \u001b[39m# Encoding\u001b[39;00m\n\u001b[1;32m--> 786\u001b[0m         handle \u001b[39m=\u001b[39m \u001b[39mopen\u001b[39;49m(\n\u001b[0;32m    787\u001b[0m             handle,\n\u001b[0;32m    788\u001b[0m             ioargs\u001b[39m.\u001b[39;49mmode,\n\u001b[0;32m    789\u001b[0m             encoding\u001b[39m=\u001b[39;49mioargs\u001b[39m.\u001b[39;49mencoding,\n\u001b[0;32m    790\u001b[0m             errors\u001b[39m=\u001b[39;49merrors,\n\u001b[0;32m    791\u001b[0m             newline\u001b[39m=\u001b[39;49m\u001b[39m\"\u001b[39;49m\u001b[39m\"\u001b[39;49m,\n\u001b[0;32m    792\u001b[0m         )\n\u001b[0;32m    793\u001b[0m     \u001b[39melse\u001b[39;00m:\n\u001b[0;32m    794\u001b[0m         \u001b[39m# Binary mode\u001b[39;00m\n\u001b[0;32m    795\u001b[0m         handle \u001b[39m=\u001b[39m \u001b[39mopen\u001b[39m(handle, ioargs\u001b[39m.\u001b[39mmode)\n",
      "\u001b[1;31mFileNotFoundError\u001b[0m: [Errno 2] No such file or directory: '../Data/COVID-19_Reported_Patient_Impact_and_Hospital_Capacity_by_Facility.csv'"
     ]
    }
   ],
   "source": [
    "data = pd.read_csv(\"../COVID-19_Reported_Patient_Impact_and_Hospital_Capacity_by_Facility.csv\").head(30000).sort_values(['state'])"
   ]
  },
  {
   "cell_type": "code",
   "execution_count": null,
   "metadata": {},
   "outputs": [
    {
     "data": {
      "text/html": [
       "<div>\n",
       "<style scoped>\n",
       "    .dataframe tbody tr th:only-of-type {\n",
       "        vertical-align: middle;\n",
       "    }\n",
       "\n",
       "    .dataframe tbody tr th {\n",
       "        vertical-align: top;\n",
       "    }\n",
       "\n",
       "    .dataframe thead th {\n",
       "        text-align: right;\n",
       "    }\n",
       "</style>\n",
       "<table border=\"1\" class=\"dataframe\">\n",
       "  <thead>\n",
       "    <tr style=\"text-align: right;\">\n",
       "      <th></th>\n",
       "      <th>hospital_pk</th>\n",
       "      <th>collection_week</th>\n",
       "      <th>state</th>\n",
       "      <th>ccn</th>\n",
       "      <th>hospital_name</th>\n",
       "      <th>address</th>\n",
       "      <th>city</th>\n",
       "      <th>zip</th>\n",
       "      <th>hospital_subtype</th>\n",
       "      <th>fips_code</th>\n",
       "      <th>...</th>\n",
       "      <th>previous_day_admission_pediatric_covid_confirmed_unknown_7_day_sum</th>\n",
       "      <th>staffed_icu_pediatric_patients_confirmed_covid_7_day_avg</th>\n",
       "      <th>staffed_icu_pediatric_patients_confirmed_covid_7_day_coverage</th>\n",
       "      <th>staffed_icu_pediatric_patients_confirmed_covid_7_day_sum</th>\n",
       "      <th>staffed_pediatric_icu_bed_occupancy_7_day_avg</th>\n",
       "      <th>staffed_pediatric_icu_bed_occupancy_7_day_coverage</th>\n",
       "      <th>staffed_pediatric_icu_bed_occupancy_7_day_sum</th>\n",
       "      <th>total_staffed_pediatric_icu_beds_7_day_avg</th>\n",
       "      <th>total_staffed_pediatric_icu_beds_7_day_coverage</th>\n",
       "      <th>total_staffed_pediatric_icu_beds_7_day_sum</th>\n",
       "    </tr>\n",
       "  </thead>\n",
       "  <tbody>\n",
       "    <tr>\n",
       "      <th>15184</th>\n",
       "      <td>021313</td>\n",
       "      <td>2022/10/07</td>\n",
       "      <td>AK</td>\n",
       "      <td>021313</td>\n",
       "      <td>SOUTH PENINSULA HOSPITAL</td>\n",
       "      <td>4300 BARTLETT ST</td>\n",
       "      <td>HOMER</td>\n",
       "      <td>99603.0</td>\n",
       "      <td>Critical Access Hospitals</td>\n",
       "      <td>2120.0</td>\n",
       "      <td>...</td>\n",
       "      <td>0.0</td>\n",
       "      <td>0.0</td>\n",
       "      <td>7</td>\n",
       "      <td>0.0</td>\n",
       "      <td>0.0</td>\n",
       "      <td>7</td>\n",
       "      <td>0.0</td>\n",
       "      <td>0.0</td>\n",
       "      <td>7</td>\n",
       "      <td>0.0</td>\n",
       "    </tr>\n",
       "    <tr>\n",
       "      <th>7327</th>\n",
       "      <td>020001</td>\n",
       "      <td>2020/03/27</td>\n",
       "      <td>AK</td>\n",
       "      <td>020001</td>\n",
       "      <td>PROVIDENCE ALASKA MEDICAL CENTER</td>\n",
       "      <td>3200 PROVIDENCE DRIVE</td>\n",
       "      <td>ANCHORAGE</td>\n",
       "      <td>99508.0</td>\n",
       "      <td>Short Term</td>\n",
       "      <td>2020.0</td>\n",
       "      <td>...</td>\n",
       "      <td>NaN</td>\n",
       "      <td>NaN</td>\n",
       "      <td>0</td>\n",
       "      <td>NaN</td>\n",
       "      <td>NaN</td>\n",
       "      <td>0</td>\n",
       "      <td>NaN</td>\n",
       "      <td>NaN</td>\n",
       "      <td>0</td>\n",
       "      <td>NaN</td>\n",
       "    </tr>\n",
       "    <tr>\n",
       "      <th>11806</th>\n",
       "      <td>021313</td>\n",
       "      <td>2022/02/11</td>\n",
       "      <td>AK</td>\n",
       "      <td>021313</td>\n",
       "      <td>SOUTH PENINSULA HOSPITAL</td>\n",
       "      <td>4300 BARTLETT ST</td>\n",
       "      <td>HOMER</td>\n",
       "      <td>99603.0</td>\n",
       "      <td>Critical Access Hospitals</td>\n",
       "      <td>2120.0</td>\n",
       "      <td>...</td>\n",
       "      <td>0.0</td>\n",
       "      <td>0.0</td>\n",
       "      <td>7</td>\n",
       "      <td>0.0</td>\n",
       "      <td>0.0</td>\n",
       "      <td>7</td>\n",
       "      <td>0.0</td>\n",
       "      <td>0.0</td>\n",
       "      <td>7</td>\n",
       "      <td>0.0</td>\n",
       "    </tr>\n",
       "    <tr>\n",
       "      <th>18367</th>\n",
       "      <td>020008</td>\n",
       "      <td>2022/07/29</td>\n",
       "      <td>AK</td>\n",
       "      <td>020008</td>\n",
       "      <td>BARTLETT REGIONAL HOSPITAL</td>\n",
       "      <td>3260 HOSPITAL DR</td>\n",
       "      <td>JUNEAU</td>\n",
       "      <td>99801.0</td>\n",
       "      <td>Short Term</td>\n",
       "      <td>2110.0</td>\n",
       "      <td>...</td>\n",
       "      <td>0.0</td>\n",
       "      <td>0.0</td>\n",
       "      <td>7</td>\n",
       "      <td>0.0</td>\n",
       "      <td>-999999.0</td>\n",
       "      <td>7</td>\n",
       "      <td>-999999.0</td>\n",
       "      <td>0.0</td>\n",
       "      <td>7</td>\n",
       "      <td>0.0</td>\n",
       "    </tr>\n",
       "    <tr>\n",
       "      <th>15693</th>\n",
       "      <td>020008</td>\n",
       "      <td>2022/03/25</td>\n",
       "      <td>AK</td>\n",
       "      <td>020008</td>\n",
       "      <td>BARTLETT REGIONAL HOSPITAL</td>\n",
       "      <td>3260 HOSPITAL DR</td>\n",
       "      <td>JUNEAU</td>\n",
       "      <td>99801.0</td>\n",
       "      <td>Short Term</td>\n",
       "      <td>2110.0</td>\n",
       "      <td>...</td>\n",
       "      <td>0.0</td>\n",
       "      <td>0.0</td>\n",
       "      <td>7</td>\n",
       "      <td>0.0</td>\n",
       "      <td>0.0</td>\n",
       "      <td>7</td>\n",
       "      <td>0.0</td>\n",
       "      <td>0.0</td>\n",
       "      <td>7</td>\n",
       "      <td>0.0</td>\n",
       "    </tr>\n",
       "  </tbody>\n",
       "</table>\n",
       "<p>5 rows × 128 columns</p>\n",
       "</div>"
      ],
      "text/plain": [
       "      hospital_pk collection_week state     ccn  \\\n",
       "15184      021313      2022/10/07    AK  021313   \n",
       "7327       020001      2020/03/27    AK  020001   \n",
       "11806      021313      2022/02/11    AK  021313   \n",
       "18367      020008      2022/07/29    AK  020008   \n",
       "15693      020008      2022/03/25    AK  020008   \n",
       "\n",
       "                          hospital_name                address       city  \\\n",
       "15184          SOUTH PENINSULA HOSPITAL       4300 BARTLETT ST      HOMER   \n",
       "7327   PROVIDENCE ALASKA MEDICAL CENTER  3200 PROVIDENCE DRIVE  ANCHORAGE   \n",
       "11806          SOUTH PENINSULA HOSPITAL       4300 BARTLETT ST      HOMER   \n",
       "18367        BARTLETT REGIONAL HOSPITAL       3260 HOSPITAL DR     JUNEAU   \n",
       "15693        BARTLETT REGIONAL HOSPITAL       3260 HOSPITAL DR     JUNEAU   \n",
       "\n",
       "           zip           hospital_subtype  fips_code  ...  \\\n",
       "15184  99603.0  Critical Access Hospitals     2120.0  ...   \n",
       "7327   99508.0                 Short Term     2020.0  ...   \n",
       "11806  99603.0  Critical Access Hospitals     2120.0  ...   \n",
       "18367  99801.0                 Short Term     2110.0  ...   \n",
       "15693  99801.0                 Short Term     2110.0  ...   \n",
       "\n",
       "       previous_day_admission_pediatric_covid_confirmed_unknown_7_day_sum  \\\n",
       "15184                                                0.0                    \n",
       "7327                                                 NaN                    \n",
       "11806                                                0.0                    \n",
       "18367                                                0.0                    \n",
       "15693                                                0.0                    \n",
       "\n",
       "       staffed_icu_pediatric_patients_confirmed_covid_7_day_avg  \\\n",
       "15184                                                0.0          \n",
       "7327                                                 NaN          \n",
       "11806                                                0.0          \n",
       "18367                                                0.0          \n",
       "15693                                                0.0          \n",
       "\n",
       "       staffed_icu_pediatric_patients_confirmed_covid_7_day_coverage  \\\n",
       "15184                                                  7               \n",
       "7327                                                   0               \n",
       "11806                                                  7               \n",
       "18367                                                  7               \n",
       "15693                                                  7               \n",
       "\n",
       "       staffed_icu_pediatric_patients_confirmed_covid_7_day_sum  \\\n",
       "15184                                                0.0          \n",
       "7327                                                 NaN          \n",
       "11806                                                0.0          \n",
       "18367                                                0.0          \n",
       "15693                                                0.0          \n",
       "\n",
       "       staffed_pediatric_icu_bed_occupancy_7_day_avg  \\\n",
       "15184                                            0.0   \n",
       "7327                                             NaN   \n",
       "11806                                            0.0   \n",
       "18367                                      -999999.0   \n",
       "15693                                            0.0   \n",
       "\n",
       "       staffed_pediatric_icu_bed_occupancy_7_day_coverage  \\\n",
       "15184                                                  7    \n",
       "7327                                                   0    \n",
       "11806                                                  7    \n",
       "18367                                                  7    \n",
       "15693                                                  7    \n",
       "\n",
       "       staffed_pediatric_icu_bed_occupancy_7_day_sum  \\\n",
       "15184                                            0.0   \n",
       "7327                                             NaN   \n",
       "11806                                            0.0   \n",
       "18367                                      -999999.0   \n",
       "15693                                            0.0   \n",
       "\n",
       "       total_staffed_pediatric_icu_beds_7_day_avg  \\\n",
       "15184                                         0.0   \n",
       "7327                                          NaN   \n",
       "11806                                         0.0   \n",
       "18367                                         0.0   \n",
       "15693                                         0.0   \n",
       "\n",
       "       total_staffed_pediatric_icu_beds_7_day_coverage  \\\n",
       "15184                                                7   \n",
       "7327                                                 0   \n",
       "11806                                                7   \n",
       "18367                                                7   \n",
       "15693                                                7   \n",
       "\n",
       "       total_staffed_pediatric_icu_beds_7_day_sum  \n",
       "15184                                         0.0  \n",
       "7327                                          NaN  \n",
       "11806                                         0.0  \n",
       "18367                                         0.0  \n",
       "15693                                         0.0  \n",
       "\n",
       "[5 rows x 128 columns]"
      ]
     },
     "execution_count": 3,
     "metadata": {},
     "output_type": "execute_result"
    }
   ],
   "source": [
    "data.head()"
   ]
  },
  {
   "cell_type": "code",
   "execution_count": null,
   "metadata": {},
   "outputs": [
    {
     "data": {
      "text/plain": [
       "2328     2019/12/27\n",
       "21983    2019/12/27\n",
       "4116     2019/12/27\n",
       "8936     2020/01/03\n",
       "15744    2020/01/10\n",
       "            ...    \n",
       "26509    2023/02/10\n",
       "26519    2023/02/10\n",
       "26299    2023/02/10\n",
       "11599    2023/02/10\n",
       "22242    2023/02/10\n",
       "Name: collection_week, Length: 30000, dtype: object"
      ]
     },
     "execution_count": 4,
     "metadata": {},
     "output_type": "execute_result"
    }
   ],
   "source": [
    "data['collection_week'].sort_values().dropna()"
   ]
  },
  {
   "attachments": {},
   "cell_type": "markdown",
   "metadata": {},
   "source": [
    "## Data Processing for State"
   ]
  },
  {
   "cell_type": "code",
   "execution_count": null,
   "metadata": {},
   "outputs": [],
   "source": [
    "def ifZero(x):\n",
    "    if x < 0:\n",
    "        return 0\n",
    "    return x"
   ]
  },
  {
   "cell_type": "code",
   "execution_count": null,
   "metadata": {},
   "outputs": [
    {
     "data": {
      "text/html": [
       "<div>\n",
       "<style scoped>\n",
       "    .dataframe tbody tr th:only-of-type {\n",
       "        vertical-align: middle;\n",
       "    }\n",
       "\n",
       "    .dataframe tbody tr th {\n",
       "        vertical-align: top;\n",
       "    }\n",
       "\n",
       "    .dataframe thead th {\n",
       "        text-align: right;\n",
       "    }\n",
       "</style>\n",
       "<table border=\"1\" class=\"dataframe\">\n",
       "  <thead>\n",
       "    <tr style=\"text-align: right;\">\n",
       "      <th></th>\n",
       "      <th>inpatient_beds_used_covid_7_day_sum</th>\n",
       "      <th>all_adult_hospital_inpatient_beds_7_day_sum</th>\n",
       "      <th>total_beds_7_day_sum</th>\n",
       "      <th>inpatient_beds_used_7_day_sum</th>\n",
       "      <th>inpatient_beds_7_day_sum</th>\n",
       "      <th>previous_day_admission_adult_covid_confirmed_7_day_sum</th>\n",
       "      <th>previous_day_admission_adult_covid_suspected_7_day_sum</th>\n",
       "    </tr>\n",
       "  </thead>\n",
       "  <tbody>\n",
       "    <tr>\n",
       "      <th>15184</th>\n",
       "      <td>-999999.0</td>\n",
       "      <td>154.0</td>\n",
       "      <td>NaN</td>\n",
       "      <td>81.0</td>\n",
       "      <td>154.0</td>\n",
       "      <td>0.0</td>\n",
       "      <td>0.0</td>\n",
       "    </tr>\n",
       "    <tr>\n",
       "      <th>7327</th>\n",
       "      <td>NaN</td>\n",
       "      <td>NaN</td>\n",
       "      <td>490.0</td>\n",
       "      <td>231.0</td>\n",
       "      <td>401.0</td>\n",
       "      <td>NaN</td>\n",
       "      <td>NaN</td>\n",
       "    </tr>\n",
       "    <tr>\n",
       "      <th>11806</th>\n",
       "      <td>8.0</td>\n",
       "      <td>154.0</td>\n",
       "      <td>NaN</td>\n",
       "      <td>69.0</td>\n",
       "      <td>154.0</td>\n",
       "      <td>-999999.0</td>\n",
       "      <td>0.0</td>\n",
       "    </tr>\n",
       "    <tr>\n",
       "      <th>18367</th>\n",
       "      <td>16.0</td>\n",
       "      <td>371.0</td>\n",
       "      <td>NaN</td>\n",
       "      <td>283.0</td>\n",
       "      <td>399.0</td>\n",
       "      <td>8.0</td>\n",
       "      <td>0.0</td>\n",
       "    </tr>\n",
       "    <tr>\n",
       "      <th>15693</th>\n",
       "      <td>14.0</td>\n",
       "      <td>375.0</td>\n",
       "      <td>NaN</td>\n",
       "      <td>258.0</td>\n",
       "      <td>399.0</td>\n",
       "      <td>0.0</td>\n",
       "      <td>0.0</td>\n",
       "    </tr>\n",
       "    <tr>\n",
       "      <th>...</th>\n",
       "      <td>...</td>\n",
       "      <td>...</td>\n",
       "      <td>...</td>\n",
       "      <td>...</td>\n",
       "      <td>...</td>\n",
       "      <td>...</td>\n",
       "      <td>...</td>\n",
       "    </tr>\n",
       "    <tr>\n",
       "      <th>6273</th>\n",
       "      <td>0.0</td>\n",
       "      <td>NaN</td>\n",
       "      <td>84.0</td>\n",
       "      <td>36.0</td>\n",
       "      <td>84.0</td>\n",
       "      <td>NaN</td>\n",
       "      <td>NaN</td>\n",
       "    </tr>\n",
       "    <tr>\n",
       "      <th>3281</th>\n",
       "      <td>-999999.0</td>\n",
       "      <td>NaN</td>\n",
       "      <td>84.0</td>\n",
       "      <td>23.0</td>\n",
       "      <td>84.0</td>\n",
       "      <td>NaN</td>\n",
       "      <td>NaN</td>\n",
       "    </tr>\n",
       "    <tr>\n",
       "      <th>1928</th>\n",
       "      <td>0.0</td>\n",
       "      <td>NaN</td>\n",
       "      <td>25.0</td>\n",
       "      <td>-999999.0</td>\n",
       "      <td>-999999.0</td>\n",
       "      <td>NaN</td>\n",
       "      <td>NaN</td>\n",
       "    </tr>\n",
       "    <tr>\n",
       "      <th>4317</th>\n",
       "      <td>6.0</td>\n",
       "      <td>NaN</td>\n",
       "      <td>300.0</td>\n",
       "      <td>34.0</td>\n",
       "      <td>285.0</td>\n",
       "      <td>NaN</td>\n",
       "      <td>NaN</td>\n",
       "    </tr>\n",
       "    <tr>\n",
       "      <th>5444</th>\n",
       "      <td>0.0</td>\n",
       "      <td>NaN</td>\n",
       "      <td>217.0</td>\n",
       "      <td>12.0</td>\n",
       "      <td>175.0</td>\n",
       "      <td>NaN</td>\n",
       "      <td>NaN</td>\n",
       "    </tr>\n",
       "  </tbody>\n",
       "</table>\n",
       "<p>30000 rows × 7 columns</p>\n",
       "</div>"
      ],
      "text/plain": [
       "       inpatient_beds_used_covid_7_day_sum  \\\n",
       "15184                            -999999.0   \n",
       "7327                                   NaN   \n",
       "11806                                  8.0   \n",
       "18367                                 16.0   \n",
       "15693                                 14.0   \n",
       "...                                    ...   \n",
       "6273                                   0.0   \n",
       "3281                             -999999.0   \n",
       "1928                                   0.0   \n",
       "4317                                   6.0   \n",
       "5444                                   0.0   \n",
       "\n",
       "       all_adult_hospital_inpatient_beds_7_day_sum  total_beds_7_day_sum  \\\n",
       "15184                                        154.0                   NaN   \n",
       "7327                                           NaN                 490.0   \n",
       "11806                                        154.0                   NaN   \n",
       "18367                                        371.0                   NaN   \n",
       "15693                                        375.0                   NaN   \n",
       "...                                            ...                   ...   \n",
       "6273                                           NaN                  84.0   \n",
       "3281                                           NaN                  84.0   \n",
       "1928                                           NaN                  25.0   \n",
       "4317                                           NaN                 300.0   \n",
       "5444                                           NaN                 217.0   \n",
       "\n",
       "       inpatient_beds_used_7_day_sum  inpatient_beds_7_day_sum  \\\n",
       "15184                           81.0                     154.0   \n",
       "7327                           231.0                     401.0   \n",
       "11806                           69.0                     154.0   \n",
       "18367                          283.0                     399.0   \n",
       "15693                          258.0                     399.0   \n",
       "...                              ...                       ...   \n",
       "6273                            36.0                      84.0   \n",
       "3281                            23.0                      84.0   \n",
       "1928                       -999999.0                 -999999.0   \n",
       "4317                            34.0                     285.0   \n",
       "5444                            12.0                     175.0   \n",
       "\n",
       "       previous_day_admission_adult_covid_confirmed_7_day_sum  \\\n",
       "15184                                                0.0        \n",
       "7327                                                 NaN        \n",
       "11806                                          -999999.0        \n",
       "18367                                                8.0        \n",
       "15693                                                0.0        \n",
       "...                                                  ...        \n",
       "6273                                                 NaN        \n",
       "3281                                                 NaN        \n",
       "1928                                                 NaN        \n",
       "4317                                                 NaN        \n",
       "5444                                                 NaN        \n",
       "\n",
       "       previous_day_admission_adult_covid_suspected_7_day_sum  \n",
       "15184                                                0.0       \n",
       "7327                                                 NaN       \n",
       "11806                                                0.0       \n",
       "18367                                                0.0       \n",
       "15693                                                0.0       \n",
       "...                                                  ...       \n",
       "6273                                                 NaN       \n",
       "3281                                                 NaN       \n",
       "1928                                                 NaN       \n",
       "4317                                                 NaN       \n",
       "5444                                                 NaN       \n",
       "\n",
       "[30000 rows x 7 columns]"
      ]
     },
     "execution_count": 6,
     "metadata": {},
     "output_type": "execute_result"
    }
   ],
   "source": [
    "# 'icu_beds_used_7_day_sum',\n",
    "# 'all_pediatric_inpatient_beds_7_day_sum'\n",
    "\n",
    "sliced = data[['inpatient_beds_used_covid_7_day_sum', \n",
    "\n",
    "                'all_adult_hospital_inpatient_beds_7_day_sum',\n",
    "                'total_beds_7_day_sum', \n",
    "                'inpatient_beds_used_7_day_sum', 'inpatient_beds_7_day_sum', \n",
    "                \n",
    "                'previous_day_admission_adult_covid_confirmed_7_day_sum',\n",
    "                'previous_day_admission_adult_covid_suspected_7_day_sum', \n",
    "                'total_adult_patients_hospitalized_confirmed_and_suspected_covid_7_day_sum']]\n",
    "sliced"
   ]
  },
  {
   "cell_type": "code",
   "execution_count": null,
   "metadata": {},
   "outputs": [
    {
     "data": {
      "text/html": [
       "<div>\n",
       "<style scoped>\n",
       "    .dataframe tbody tr th:only-of-type {\n",
       "        vertical-align: middle;\n",
       "    }\n",
       "\n",
       "    .dataframe tbody tr th {\n",
       "        vertical-align: top;\n",
       "    }\n",
       "\n",
       "    .dataframe thead th {\n",
       "        text-align: right;\n",
       "    }\n",
       "</style>\n",
       "<table border=\"1\" class=\"dataframe\">\n",
       "  <thead>\n",
       "    <tr style=\"text-align: right;\">\n",
       "      <th></th>\n",
       "      <th>inpatient_beds_used_covid_7_day_sum</th>\n",
       "      <th>all_adult_hospital_inpatient_beds_7_day_sum</th>\n",
       "      <th>total_beds_7_day_sum</th>\n",
       "      <th>inpatient_beds_used_7_day_sum</th>\n",
       "      <th>inpatient_beds_7_day_sum</th>\n",
       "      <th>previous_day_admission_adult_covid_confirmed_7_day_sum</th>\n",
       "      <th>previous_day_admission_adult_covid_suspected_7_day_sum</th>\n",
       "    </tr>\n",
       "  </thead>\n",
       "  <tbody>\n",
       "    <tr>\n",
       "      <th>10956</th>\n",
       "      <td>247.0</td>\n",
       "      <td>1668.0</td>\n",
       "      <td>2116.0</td>\n",
       "      <td>1909.0</td>\n",
       "      <td>2114.0</td>\n",
       "      <td>26.0</td>\n",
       "      <td>0.0</td>\n",
       "    </tr>\n",
       "    <tr>\n",
       "      <th>9647</th>\n",
       "      <td>52.0</td>\n",
       "      <td>483.0</td>\n",
       "      <td>707.0</td>\n",
       "      <td>352.0</td>\n",
       "      <td>567.0</td>\n",
       "      <td>13.0</td>\n",
       "      <td>4.0</td>\n",
       "    </tr>\n",
       "    <tr>\n",
       "      <th>16989</th>\n",
       "      <td>25.0</td>\n",
       "      <td>1043.0</td>\n",
       "      <td>1288.0</td>\n",
       "      <td>481.0</td>\n",
       "      <td>1120.0</td>\n",
       "      <td>7.0</td>\n",
       "      <td>0.0</td>\n",
       "    </tr>\n",
       "    <tr>\n",
       "      <th>2209</th>\n",
       "      <td>0.0</td>\n",
       "      <td>84.0</td>\n",
       "      <td>84.0</td>\n",
       "      <td>21.0</td>\n",
       "      <td>84.0</td>\n",
       "      <td>0.0</td>\n",
       "      <td>0.0</td>\n",
       "    </tr>\n",
       "    <tr>\n",
       "      <th>17242</th>\n",
       "      <td>0.0</td>\n",
       "      <td>84.0</td>\n",
       "      <td>84.0</td>\n",
       "      <td>26.0</td>\n",
       "      <td>84.0</td>\n",
       "      <td>0.0</td>\n",
       "      <td>0.0</td>\n",
       "    </tr>\n",
       "    <tr>\n",
       "      <th>...</th>\n",
       "      <td>...</td>\n",
       "      <td>...</td>\n",
       "      <td>...</td>\n",
       "      <td>...</td>\n",
       "      <td>...</td>\n",
       "      <td>...</td>\n",
       "      <td>...</td>\n",
       "    </tr>\n",
       "    <tr>\n",
       "      <th>29798</th>\n",
       "      <td>142.0</td>\n",
       "      <td>1344.0</td>\n",
       "      <td>1603.0</td>\n",
       "      <td>1024.0</td>\n",
       "      <td>1603.0</td>\n",
       "      <td>14.0</td>\n",
       "      <td>4.0</td>\n",
       "    </tr>\n",
       "    <tr>\n",
       "      <th>8134</th>\n",
       "      <td>0.0</td>\n",
       "      <td>14.0</td>\n",
       "      <td>140.0</td>\n",
       "      <td>14.0</td>\n",
       "      <td>140.0</td>\n",
       "      <td>0.0</td>\n",
       "      <td>0.0</td>\n",
       "    </tr>\n",
       "    <tr>\n",
       "      <th>29454</th>\n",
       "      <td>0.0</td>\n",
       "      <td>119.0</td>\n",
       "      <td>308.0</td>\n",
       "      <td>36.0</td>\n",
       "      <td>308.0</td>\n",
       "      <td>0.0</td>\n",
       "      <td>0.0</td>\n",
       "    </tr>\n",
       "    <tr>\n",
       "      <th>29348</th>\n",
       "      <td>7.0</td>\n",
       "      <td>112.0</td>\n",
       "      <td>126.0</td>\n",
       "      <td>25.0</td>\n",
       "      <td>112.0</td>\n",
       "      <td>0.0</td>\n",
       "      <td>0.0</td>\n",
       "    </tr>\n",
       "    <tr>\n",
       "      <th>29920</th>\n",
       "      <td>10.0</td>\n",
       "      <td>168.0</td>\n",
       "      <td>182.0</td>\n",
       "      <td>145.0</td>\n",
       "      <td>168.0</td>\n",
       "      <td>6.0</td>\n",
       "      <td>0.0</td>\n",
       "    </tr>\n",
       "  </tbody>\n",
       "</table>\n",
       "<p>15492 rows × 7 columns</p>\n",
       "</div>"
      ],
      "text/plain": [
       "       inpatient_beds_used_covid_7_day_sum  \\\n",
       "10956                                247.0   \n",
       "9647                                  52.0   \n",
       "16989                                 25.0   \n",
       "2209                                   0.0   \n",
       "17242                                  0.0   \n",
       "...                                    ...   \n",
       "29798                                142.0   \n",
       "8134                                   0.0   \n",
       "29454                                  0.0   \n",
       "29348                                  7.0   \n",
       "29920                                 10.0   \n",
       "\n",
       "       all_adult_hospital_inpatient_beds_7_day_sum  total_beds_7_day_sum  \\\n",
       "10956                                       1668.0                2116.0   \n",
       "9647                                         483.0                 707.0   \n",
       "16989                                       1043.0                1288.0   \n",
       "2209                                          84.0                  84.0   \n",
       "17242                                         84.0                  84.0   \n",
       "...                                            ...                   ...   \n",
       "29798                                       1344.0                1603.0   \n",
       "8134                                          14.0                 140.0   \n",
       "29454                                        119.0                 308.0   \n",
       "29348                                        112.0                 126.0   \n",
       "29920                                        168.0                 182.0   \n",
       "\n",
       "       inpatient_beds_used_7_day_sum  inpatient_beds_7_day_sum  \\\n",
       "10956                         1909.0                    2114.0   \n",
       "9647                           352.0                     567.0   \n",
       "16989                          481.0                    1120.0   \n",
       "2209                            21.0                      84.0   \n",
       "17242                           26.0                      84.0   \n",
       "...                              ...                       ...   \n",
       "29798                         1024.0                    1603.0   \n",
       "8134                            14.0                     140.0   \n",
       "29454                           36.0                     308.0   \n",
       "29348                           25.0                     112.0   \n",
       "29920                          145.0                     168.0   \n",
       "\n",
       "       previous_day_admission_adult_covid_confirmed_7_day_sum  \\\n",
       "10956                                               26.0        \n",
       "9647                                                13.0        \n",
       "16989                                                7.0        \n",
       "2209                                                 0.0        \n",
       "17242                                                0.0        \n",
       "...                                                  ...        \n",
       "29798                                               14.0        \n",
       "8134                                                 0.0        \n",
       "29454                                                0.0        \n",
       "29348                                                0.0        \n",
       "29920                                                6.0        \n",
       "\n",
       "       previous_day_admission_adult_covid_suspected_7_day_sum  \n",
       "10956                                                0.0       \n",
       "9647                                                 4.0       \n",
       "16989                                                0.0       \n",
       "2209                                                 0.0       \n",
       "17242                                                0.0       \n",
       "...                                                  ...       \n",
       "29798                                                4.0       \n",
       "8134                                                 0.0       \n",
       "29454                                                0.0       \n",
       "29348                                                0.0       \n",
       "29920                                                0.0       \n",
       "\n",
       "[15492 rows x 7 columns]"
      ]
     },
     "execution_count": 7,
     "metadata": {},
     "output_type": "execute_result"
    }
   ],
   "source": [
    "psliced = sliced.dropna()\n",
    "psliced= psliced.applymap(lambda x: ifZero(x))\n",
    "psliced"
   ]
  },
  {
   "cell_type": "code",
   "execution_count": null,
   "metadata": {},
   "outputs": [
    {
     "ename": "NameError",
     "evalue": "name 'sns' is not defined",
     "output_type": "error",
     "traceback": [
      "\u001b[1;31m---------------------------------------------------------------------------\u001b[0m",
      "\u001b[1;31mNameError\u001b[0m                                 Traceback (most recent call last)",
      "Cell \u001b[1;32mIn [1], line 1\u001b[0m\n\u001b[1;32m----> 1\u001b[0m sns\u001b[39m.\u001b[39mpairplot(psliced)\n",
      "\u001b[1;31mNameError\u001b[0m: name 'sns' is not defined"
     ]
    }
   ],
   "source": [
    "sns.pairplot(psliced)"
   ]
  },
  {
   "attachments": {},
   "cell_type": "markdown",
   "metadata": {},
   "source": [
    "Determine if there are linear correlations?"
   ]
  },
  {
   "cell_type": "code",
   "execution_count": null,
   "metadata": {},
   "outputs": [],
   "source": [
    "y = np.array(psliced['inpatient_beds_used_covid_7_day_sum'])\n",
    "y"
   ]
  },
  {
   "cell_type": "code",
   "execution_count": null,
   "metadata": {},
   "outputs": [
    {
     "name": "stderr",
     "output_type": "stream",
     "text": [
      "C:\\Users\\derek\\AppData\\Local\\Temp\\ipykernel_16568\\2634886588.py:3: RuntimeWarning: divide by zero encountered in log\n",
      "  X_2 = np.log(np.array(psliced['inpatient_beds_used_7_day_sum']))\n"
     ]
    }
   ],
   "source": [
    "X_1 = np.array(psliced['total_beds_7_day_sum'])\n",
    "\n",
    "X_2 = np.log(np.array(psliced['inpatient_beds_used_7_day_sum']))\n",
    "X_3 = np.array(psliced['inpatient_beds_7_day_sum'])\n",
    "\n",
    "X_4 = np.array(psliced['all_adult_hospital_inpatient_beds_7_day_sum'])\n",
    "\n",
    "X_5 = np.array(psliced['previous_day_admission_adult_covid_confirmed_7_day_sum'])\n",
    "\n",
    "# X_2 = np.log(X_2)"
   ]
  },
  {
   "attachments": {},
   "cell_type": "markdown",
   "metadata": {},
   "source": [
    "## Logorithmic relationship between X_1 and y"
   ]
  },
  {
   "cell_type": "code",
   "execution_count": null,
   "metadata": {},
   "outputs": [
    {
     "data": {
      "text/plain": [
       "<matplotlib.collections.PathCollection at 0x21f9219bcd0>"
      ]
     },
     "execution_count": 388,
     "metadata": {},
     "output_type": "execute_result"
    },
    {
     "data": {
      "image/png": "[encoded data removed]",
      "text/plain": [
       "<Figure size 432x288 with 1 Axes>"
      ]
     },
     "metadata": {
      "needs_background": "light"
     },
     "output_type": "display_data"
    }
   ],
   "source": [
    "plt.scatter(y, X_1)"
   ]
  },
  {
   "cell_type": "code",
   "execution_count": null,
   "metadata": {},
   "outputs": [
    {
     "data": {
      "text/plain": [
       "<matplotlib.collections.PathCollection at 0x21f90f90490>"
      ]
     },
     "execution_count": 389,
     "metadata": {},
     "output_type": "execute_result"
    },
    {
     "data": {
      "image/png": "[encoded data removed]",
      "text/plain": [
       "<Figure size 432x288 with 1 Axes>"
      ]
     },
     "metadata": {
      "needs_background": "light"
     },
     "output_type": "display_data"
    }
   ],
   "source": [
    "plt.scatter(X_5, y, color='red')"
   ]
  },
  {
   "cell_type": "code",
   "execution_count": null,
   "metadata": {},
   "outputs": [
    {
     "data": {
      "text/plain": [
       "<matplotlib.collections.PathCollection at 0x21f8deb39d0>"
      ]
     },
     "execution_count": 390,
     "metadata": {},
     "output_type": "execute_result"
    },
    {
     "data": {
      "image/png": "[encoded data removed]",
      "text/plain": [
       "<Figure size 432x288 with 1 Axes>"
      ]
     },
     "metadata": {
      "needs_background": "light"
     },
     "output_type": "display_data"
    }
   ],
   "source": [
    "plt.scatter(X_3, y, color='green')"
   ]
  },
  {
   "cell_type": "code",
   "execution_count": null,
   "metadata": {},
   "outputs": [
    {
     "data": {
      "text/plain": [
       "array([[1.        , 0.79406297],\n",
       "       [0.79406297, 1.        ]])"
      ]
     },
     "execution_count": 407,
     "metadata": {},
     "output_type": "execute_result"
    }
   ],
   "source": [
    "np.corrcoef(X_5, y)"
   ]
  },
  {
   "cell_type": "markdown",
   "metadata": {},
   "source": [
    "# Training Model"
   ]
  },
  {
   "cell_type": "code",
   "execution_count": null,
   "metadata": {},
   "outputs": [],
   "source": [
    "from sklearn.model_selection import train_test_split\n",
    "from sklearn.linear_model import LinearRegression\n",
    "from sklearn import metrics"
   ]
  },
  {
   "cell_type": "code",
   "execution_count": null,
   "metadata": {},
   "outputs": [],
   "source": [
    "X = psliced.drop('inpatient_beds_used_covid_7_day_sum',axis=1)\n",
    "X2 = psliced['previous_day_admission_adult_covid_confirmed_7_day_sum']\n",
    "y = psliced['inpatient_beds_used_covid_7_day_sum']"
   ]
  },
  {
   "cell_type": "code",
   "execution_count": null,
   "metadata": {},
   "outputs": [],
   "source": [
    "X_train, X_test, y_train, y_test = train_test_split(X_5, y, test_size=0.3, random_state=404)"
   ]
  },
  {
   "cell_type": "code",
   "execution_count": null,
   "metadata": {},
   "outputs": [
    {
     "data": {
      "text/plain": [
       "(10701,)"
      ]
     },
     "execution_count": 395,
     "metadata": {},
     "output_type": "execute_result"
    }
   ],
   "source": [
    "y_train.shape"
   ]
  },
  {
   "cell_type": "code",
   "execution_count": null,
   "metadata": {},
   "outputs": [
    {
     "data": {
      "text/html": [
       "<style>#sk-container-id-7 {color: black;background-color: white;}#sk-container-id-7 pre{padding: 0;}#sk-container-id-7 div.sk-toggleable {background-color: white;}#sk-container-id-7 label.sk-toggleable__label {cursor: pointer;display: block;width: 100%;margin-bottom: 0;padding: 0.3em;box-sizing: border-box;text-align: center;}#sk-container-id-7 label.sk-toggleable__label-arrow:before {content: \"▸\";float: left;margin-right: 0.25em;color: #696969;}#sk-container-id-7 label.sk-toggleable__label-arrow:hover:before {color: black;}#sk-container-id-7 div.sk-estimator:hover label.sk-toggleable__label-arrow:before {color: black;}#sk-container-id-7 div.sk-toggleable__content {max-height: 0;max-width: 0;overflow: hidden;text-align: left;background-color: #f0f8ff;}#sk-container-id-7 div.sk-toggleable__content pre {margin: 0.2em;color: black;border-radius: 0.25em;background-color: #f0f8ff;}#sk-container-id-7 input.sk-toggleable__control:checked~div.sk-toggleable__content {max-height: 200px;max-width: 100%;overflow: auto;}#sk-container-id-7 input.sk-toggleable__control:checked~label.sk-toggleable__label-arrow:before {content: \"▾\";}#sk-container-id-7 div.sk-estimator input.sk-toggleable__control:checked~label.sk-toggleable__label {background-color: #d4ebff;}#sk-container-id-7 div.sk-label input.sk-toggleable__control:checked~label.sk-toggleable__label {background-color: #d4ebff;}#sk-container-id-7 input.sk-hidden--visually {border: 0;clip: rect(1px 1px 1px 1px);clip: rect(1px, 1px, 1px, 1px);height: 1px;margin: -1px;overflow: hidden;padding: 0;position: absolute;width: 1px;}#sk-container-id-7 div.sk-estimator {font-family: monospace;background-color: #f0f8ff;border: 1px dotted black;border-radius: 0.25em;box-sizing: border-box;margin-bottom: 0.5em;}#sk-container-id-7 div.sk-estimator:hover {background-color: #d4ebff;}#sk-container-id-7 div.sk-parallel-item::after {content: \"\";width: 100%;border-bottom: 1px solid gray;flex-grow: 1;}#sk-container-id-7 div.sk-label:hover label.sk-toggleable__label {background-color: #d4ebff;}#sk-container-id-7 div.sk-serial::before {content: \"\";position: absolute;border-left: 1px solid gray;box-sizing: border-box;top: 0;bottom: 0;left: 50%;z-index: 0;}#sk-container-id-7 div.sk-serial {display: flex;flex-direction: column;align-items: center;background-color: white;padding-right: 0.2em;padding-left: 0.2em;position: relative;}#sk-container-id-7 div.sk-item {position: relative;z-index: 1;}#sk-container-id-7 div.sk-parallel {display: flex;align-items: stretch;justify-content: center;background-color: white;position: relative;}#sk-container-id-7 div.sk-item::before, #sk-container-id-7 div.sk-parallel-item::before {content: \"\";position: absolute;border-left: 1px solid gray;box-sizing: border-box;top: 0;bottom: 0;left: 50%;z-index: -1;}#sk-container-id-7 div.sk-parallel-item {display: flex;flex-direction: column;z-index: 1;position: relative;background-color: white;}#sk-container-id-7 div.sk-parallel-item:first-child::after {align-self: flex-end;width: 50%;}#sk-container-id-7 div.sk-parallel-item:last-child::after {align-self: flex-start;width: 50%;}#sk-container-id-7 div.sk-parallel-item:only-child::after {width: 0;}#sk-container-id-7 div.sk-dashed-wrapped {border: 1px dashed gray;margin: 0 0.4em 0.5em 0.4em;box-sizing: border-box;padding-bottom: 0.4em;background-color: white;}#sk-container-id-7 div.sk-label label {font-family: monospace;font-weight: bold;display: inline-block;line-height: 1.2em;}#sk-container-id-7 div.sk-label-container {text-align: center;}#sk-container-id-7 div.sk-container {/* jupyter's `normalize.less` sets `[hidden] { display: none; }` but bootstrap.min.css set `[hidden] { display: none !important; }` so we also need the `!important` here to be able to override the default hidden behavior on the sphinx rendered scikit-learn.org. See: https://github.com/scikit-learn/scikit-learn/issues/21755 */display: inline-block !important;position: relative;}#sk-container-id-7 div.sk-text-repr-fallback {display: none;}</style><div id=\"sk-container-id-7\" class=\"sk-top-container\"><div class=\"sk-text-repr-fallback\"><pre>LinearRegression()</pre><b>In a Jupyter environment, please rerun this cell to show the HTML representation or trust the notebook. <br />On GitHub, the HTML representation is unable to render, please try loading this page with nbviewer.org.</b></div><div class=\"sk-container\" hidden><div class=\"sk-item\"><div class=\"sk-estimator sk-toggleable\"><input class=\"sk-toggleable__control sk-hidden--visually\" id=\"sk-estimator-id-7\" type=\"checkbox\" checked><label for=\"sk-estimator-id-7\" class=\"sk-toggleable__label sk-toggleable__label-arrow\">LinearRegression</label><div class=\"sk-toggleable__content\"><pre>LinearRegression()</pre></div></div></div></div></div>"
      ],
      "text/plain": [
       "LinearRegression()"
      ]
     },
     "execution_count": 396,
     "metadata": {},
     "output_type": "execute_result"
    }
   ],
   "source": [
    "lm = LinearRegression()\n",
    "X_train = np.array(X_train)\n",
    "lm.fit(X_train.reshape(-1, 1), y_train)\n"
   ]
  },
  {
   "cell_type": "code",
   "execution_count": null,
   "metadata": {},
   "outputs": [],
   "source": [
    "predictions = lm.predict(X_test.reshape(-1, 1))"
   ]
  },
  {
   "cell_type": "code",
   "execution_count": null,
   "metadata": {},
   "outputs": [
    {
     "data": {
      "text/plain": [
       "<matplotlib.collections.PathCollection at 0x21f8dee23b0>"
      ]
     },
     "execution_count": 398,
     "metadata": {},
     "output_type": "execute_result"
    },
    {
     "data": {
      "image/png": "[encoded data removed]",
      "text/plain": [
       "<Figure size 432x288 with 1 Axes>"
      ]
     },
     "metadata": {
      "needs_background": "light"
     },
     "output_type": "display_data"
    }
   ],
   "source": [
    "plt.scatter(y_test,predictions)"
   ]
  },
  {
   "cell_type": "code",
   "execution_count": null,
   "metadata": {},
   "outputs": [
    {
     "name": "stdout",
     "output_type": "stream",
     "text": [
      "MAE: 48.431934776609914\n",
      "MSE: 10396.59716072846\n",
      "RMSE: 101.96370511475375\n"
     ]
    },
    {
     "data": {
      "text/plain": [
       "0.670743834905041"
      ]
     },
     "execution_count": 406,
     "metadata": {},
     "output_type": "execute_result"
    }
   ],
   "source": [
    "print('MAE:', metrics.mean_absolute_error(y_test, predictions))\n",
    "print('MSE:', metrics.mean_squared_error(y_test, predictions))\n",
    "print('RMSE:', np.sqrt(metrics.mean_squared_error(y_test, predictions)))\n",
    "metrics.r2_score(y_test, predictions)"
   ]
  },
  {
   "attachments": {},
   "cell_type": "markdown",
   "metadata": {},
   "source": [
    "## NOTE: using avg has less clustering effect than sum!"
   ]
  }
 ],
 "metadata": {
  "kernelspec": {
   "display_name": "DataScience-FoTI7s4Z",
   "language": "python",
   "name": "python3"
  },
  "language_info": {
   "codemirror_mode": {
    "name": "ipython",
    "version": 3
   },
   "file_extension": ".py",
   "mimetype": "text/x-python",
   "name": "python",
   "nbconvert_exporter": "python",
   "pygments_lexer": "ipython3",
   "version": "3.10.4"
  },
  "orig_nbformat": 4,
  "vscode": {
   "interpreter": {
    "hash": "af53be0080abca7f7fc7946b3f1d00d94a244c712df27b185973700c8ffa0381"
   }
  }
 },
 "nbformat": 4,
 "nbformat_minor": 2
}
