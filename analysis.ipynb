{
 "cells": [
  {
   "cell_type": "code",
   "execution_count": null,
   "metadata": {},
   "outputs": [],
   "source": []
  }
 ],
 "metadata": {
  "kernelspec": {
   "display_name": "DataScience-FoTI7s4Z",
   "language": "python",
   "name": "python3"
  },
  "language_info": {
   "name": "python",
   "version": "3.10.4"
  },
  "orig_nbformat": 4,
  "vscode": {
   "interpreter": {
    "hash": "af53be0080abca7f7fc7946b3f1d00d94a244c712df27b185973700c8ffa0381"
   }
  }
 },
 "nbformat": 4,
 "nbformat_minor": 2
}
