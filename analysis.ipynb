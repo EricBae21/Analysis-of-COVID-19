{
 "cells": [
  {
   "cell_type": "code",
   "execution_count": 2,
   "metadata": {},
   "outputs": [],
   "source": [
    "import pandas as pd\n",
    "import numpy as np\n",
    "import matplotlib as plt\n",
    "import seaborn as sns"
   ]
  },
  {
   "cell_type": "code",
   "execution_count": 4,
   "metadata": {},
   "outputs": [
    {
     "name": "stderr",
     "output_type": "stream",
     "text": [
      "C:\\Users\\derek\\AppData\\Local\\Temp\\ipykernel_1412\\1964901235.py:1: DtypeWarning: Columns (0,3) have mixed types. Specify dtype option on import or set low_memory=False.\n",
      "  data = pd.read_csv(\"COVID-19_Reported_Patient_Impact_and_Hospital_Capacity_by_Facility.csv\").head(1500)\n"
     ]
    },
    {
     "ename": "NameError",
     "evalue": "name 'sns' is not defined",
     "output_type": "error",
     "traceback": [
      "\u001b[1;31m---------------------------------------------------------------------------\u001b[0m",
      "\u001b[1;31mNameError\u001b[0m                                 Traceback (most recent call last)",
      "\u001b[1;32mc:\\Code\\Analysis-of-COVID-19\\analysis.ipynb Cell 2\u001b[0m in \u001b[0;36m<cell line: 4>\u001b[1;34m()\u001b[0m\n\u001b[0;32m      <a href='vscode-notebook-cell:/c%3A/Code/Analysis-of-COVID-19/analysis.ipynb#W1sZmlsZQ%3D%3D?line=0'>1</a>\u001b[0m data \u001b[39m=\u001b[39m pd\u001b[39m.\u001b[39mread_csv(\u001b[39m\"\u001b[39m\u001b[39mCOVID-19_Reported_Patient_Impact_and_Hospital_Capacity_by_Facility.csv\u001b[39m\u001b[39m\"\u001b[39m)\u001b[39m.\u001b[39mhead(\u001b[39m1500\u001b[39m)\n\u001b[0;32m      <a href='vscode-notebook-cell:/c%3A/Code/Analysis-of-COVID-19/analysis.ipynb#W1sZmlsZQ%3D%3D?line=1'>2</a>\u001b[0m data\u001b[39m.\u001b[39mcolumns\n\u001b[1;32m----> <a href='vscode-notebook-cell:/c%3A/Code/Analysis-of-COVID-19/analysis.ipynb#W1sZmlsZQ%3D%3D?line=3'>4</a>\u001b[0m sns\u001b[39m.\u001b[39mpairplot()\n",
      "\u001b[1;31mNameError\u001b[0m: name 'sns' is not defined"
     ]
    }
   ],
   "source": [
    "data = pd.read_csv(\"COVID-19_Reported_Patient_Impact_and_Hospital_Capacity_by_Facility.csv\").head(1500)\n",
    "data.columns\n",
    "\n",
    "sns.pairplot(data)\n"
   ]
  }
 ],
 "metadata": {
  "kernelspec": {
   "display_name": "DataScience-FoTI7s4Z",
   "language": "python",
   "name": "python3"
  },
  "language_info": {
   "codemirror_mode": {
    "name": "ipython",
    "version": 3
   },
   "file_extension": ".py",
   "mimetype": "text/x-python",
   "name": "python",
   "nbconvert_exporter": "python",
   "pygments_lexer": "ipython3",
   "version": "3.10.4"
  },
  "orig_nbformat": 4,
  "vscode": {
   "interpreter": {
    "hash": "af53be0080abca7f7fc7946b3f1d00d94a244c712df27b185973700c8ffa0381"
   }
  }
 },
 "nbformat": 4,
 "nbformat_minor": 2
}
