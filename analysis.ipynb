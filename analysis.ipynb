{
 "cells": [
  {
   "cell_type": "code",
   "execution_count": 6,
   "metadata": {},
   "outputs": [],
   "source": [
    "import pandas as pd\n",
    "import numpy as np\n",
    "import matplotlib as plt\n",
    "import seaborn as sns"
   ]
  },
  {
   "cell_type": "code",
   "execution_count": 7,
   "metadata": {},
   "outputs": [
    {
     "name": "stderr",
     "output_type": "stream",
     "text": [
      "C:\\Users\\derek\\AppData\\Local\\Temp\\ipykernel_1412\\3166592748.py:1: DtypeWarning: Columns (0,3) have mixed types. Specify dtype option on import or set low_memory=False.\n",
      "  data = pd.read_csv(\"COVID-19_Reported_Patient_Impact_and_Hospital_Capacity_by_Facility.csv\").head(1500)\n"
     ]
    },
    {
     "ename": "KeyboardInterrupt",
     "evalue": "",
     "output_type": "error",
     "traceback": [
      "\u001b[1;31m---------------------------------------------------------------------------\u001b[0m",
      "\u001b[1;31mKeyboardInterrupt\u001b[0m                         Traceback (most recent call last)",
      "\u001b[1;32mc:\\Code\\Analysis-of-COVID-19\\analysis.ipynb Cell 2\u001b[0m in \u001b[0;36m<cell line: 4>\u001b[1;34m()\u001b[0m\n\u001b[0;32m      <a href='vscode-notebook-cell:/c%3A/Code/Analysis-of-COVID-19/analysis.ipynb#W1sZmlsZQ%3D%3D?line=0'>1</a>\u001b[0m data \u001b[39m=\u001b[39m pd\u001b[39m.\u001b[39mread_csv(\u001b[39m\"\u001b[39m\u001b[39mCOVID-19_Reported_Patient_Impact_and_Hospital_Capacity_by_Facility.csv\u001b[39m\u001b[39m\"\u001b[39m)\u001b[39m.\u001b[39mhead(\u001b[39m1500\u001b[39m)\n\u001b[0;32m      <a href='vscode-notebook-cell:/c%3A/Code/Analysis-of-COVID-19/analysis.ipynb#W1sZmlsZQ%3D%3D?line=1'>2</a>\u001b[0m data\u001b[39m.\u001b[39mcolumns\n\u001b[1;32m----> <a href='vscode-notebook-cell:/c%3A/Code/Analysis-of-COVID-19/analysis.ipynb#W1sZmlsZQ%3D%3D?line=3'>4</a>\u001b[0m sns\u001b[39m.\u001b[39;49mpairplot(data)\n",
      "File \u001b[1;32mc:\\Users\\derek\\.virtualenvs\\DataScience-FoTI7s4Z\\lib\\site-packages\\seaborn\\_decorators.py:46\u001b[0m, in \u001b[0;36m_deprecate_positional_args.<locals>.inner_f\u001b[1;34m(*args, **kwargs)\u001b[0m\n\u001b[0;32m     36\u001b[0m     warnings\u001b[39m.\u001b[39mwarn(\n\u001b[0;32m     37\u001b[0m         \u001b[39m\"\u001b[39m\u001b[39mPass the following variable\u001b[39m\u001b[39m{}\u001b[39;00m\u001b[39m as \u001b[39m\u001b[39m{}\u001b[39;00m\u001b[39mkeyword arg\u001b[39m\u001b[39m{}\u001b[39;00m\u001b[39m: \u001b[39m\u001b[39m{}\u001b[39;00m\u001b[39m. \u001b[39m\u001b[39m\"\u001b[39m\n\u001b[0;32m     38\u001b[0m         \u001b[39m\"\u001b[39m\u001b[39mFrom version 0.12, the only valid positional argument \u001b[39m\u001b[39m\"\u001b[39m\n\u001b[1;32m   (...)\u001b[0m\n\u001b[0;32m     43\u001b[0m         \u001b[39mFutureWarning\u001b[39;00m\n\u001b[0;32m     44\u001b[0m     )\n\u001b[0;32m     45\u001b[0m kwargs\u001b[39m.\u001b[39mupdate({k: arg \u001b[39mfor\u001b[39;00m k, arg \u001b[39min\u001b[39;00m \u001b[39mzip\u001b[39m(sig\u001b[39m.\u001b[39mparameters, args)})\n\u001b[1;32m---> 46\u001b[0m \u001b[39mreturn\u001b[39;00m f(\u001b[39m*\u001b[39m\u001b[39m*\u001b[39mkwargs)\n",
      "File \u001b[1;32mc:\\Users\\derek\\.virtualenvs\\DataScience-FoTI7s4Z\\lib\\site-packages\\seaborn\\axisgrid.py:2096\u001b[0m, in \u001b[0;36mpairplot\u001b[1;34m(data, hue, hue_order, palette, vars, x_vars, y_vars, kind, diag_kind, markers, height, aspect, corner, dropna, plot_kws, diag_kws, grid_kws, size)\u001b[0m\n\u001b[0;32m   2094\u001b[0m \u001b[39m# Set up the PairGrid\u001b[39;00m\n\u001b[0;32m   2095\u001b[0m grid_kws\u001b[39m.\u001b[39msetdefault(\u001b[39m\"\u001b[39m\u001b[39mdiag_sharey\u001b[39m\u001b[39m\"\u001b[39m, diag_kind \u001b[39m==\u001b[39m \u001b[39m\"\u001b[39m\u001b[39mhist\u001b[39m\u001b[39m\"\u001b[39m)\n\u001b[1;32m-> 2096\u001b[0m grid \u001b[39m=\u001b[39m PairGrid(data, \u001b[39mvars\u001b[39m\u001b[39m=\u001b[39m\u001b[39mvars\u001b[39m, x_vars\u001b[39m=\u001b[39mx_vars, y_vars\u001b[39m=\u001b[39my_vars, hue\u001b[39m=\u001b[39mhue,\n\u001b[0;32m   2097\u001b[0m                 hue_order\u001b[39m=\u001b[39mhue_order, palette\u001b[39m=\u001b[39mpalette, corner\u001b[39m=\u001b[39mcorner,\n\u001b[0;32m   2098\u001b[0m                 height\u001b[39m=\u001b[39mheight, aspect\u001b[39m=\u001b[39maspect, dropna\u001b[39m=\u001b[39mdropna, \u001b[39m*\u001b[39m\u001b[39m*\u001b[39mgrid_kws)\n\u001b[0;32m   2100\u001b[0m \u001b[39m# Add the markers here as PairGrid has figured out how many levels of the\u001b[39;00m\n\u001b[0;32m   2101\u001b[0m \u001b[39m# hue variable are needed and we don't want to duplicate that process\u001b[39;00m\n\u001b[0;32m   2102\u001b[0m \u001b[39mif\u001b[39;00m markers \u001b[39mis\u001b[39;00m \u001b[39mnot\u001b[39;00m \u001b[39mNone\u001b[39;00m:\n",
      "File \u001b[1;32mc:\\Users\\derek\\.virtualenvs\\DataScience-FoTI7s4Z\\lib\\site-packages\\seaborn\\_decorators.py:46\u001b[0m, in \u001b[0;36m_deprecate_positional_args.<locals>.inner_f\u001b[1;34m(*args, **kwargs)\u001b[0m\n\u001b[0;32m     36\u001b[0m     warnings\u001b[39m.\u001b[39mwarn(\n\u001b[0;32m     37\u001b[0m         \u001b[39m\"\u001b[39m\u001b[39mPass the following variable\u001b[39m\u001b[39m{}\u001b[39;00m\u001b[39m as \u001b[39m\u001b[39m{}\u001b[39;00m\u001b[39mkeyword arg\u001b[39m\u001b[39m{}\u001b[39;00m\u001b[39m: \u001b[39m\u001b[39m{}\u001b[39;00m\u001b[39m. \u001b[39m\u001b[39m\"\u001b[39m\n\u001b[0;32m     38\u001b[0m         \u001b[39m\"\u001b[39m\u001b[39mFrom version 0.12, the only valid positional argument \u001b[39m\u001b[39m\"\u001b[39m\n\u001b[1;32m   (...)\u001b[0m\n\u001b[0;32m     43\u001b[0m         \u001b[39mFutureWarning\u001b[39;00m\n\u001b[0;32m     44\u001b[0m     )\n\u001b[0;32m     45\u001b[0m kwargs\u001b[39m.\u001b[39mupdate({k: arg \u001b[39mfor\u001b[39;00m k, arg \u001b[39min\u001b[39;00m \u001b[39mzip\u001b[39m(sig\u001b[39m.\u001b[39mparameters, args)})\n\u001b[1;32m---> 46\u001b[0m \u001b[39mreturn\u001b[39;00m f(\u001b[39m*\u001b[39m\u001b[39m*\u001b[39mkwargs)\n",
      "File \u001b[1;32mc:\\Users\\derek\\.virtualenvs\\DataScience-FoTI7s4Z\\lib\\site-packages\\seaborn\\axisgrid.py:1244\u001b[0m, in \u001b[0;36mPairGrid.__init__\u001b[1;34m(self, data, hue, hue_order, palette, hue_kws, vars, x_vars, y_vars, corner, diag_sharey, height, aspect, layout_pad, despine, dropna, size)\u001b[0m\n\u001b[0;32m   1241\u001b[0m \u001b[39mwith\u001b[39;00m mpl\u001b[39m.\u001b[39mrc_context({\u001b[39m\"\u001b[39m\u001b[39mfigure.autolayout\u001b[39m\u001b[39m\"\u001b[39m: \u001b[39mFalse\u001b[39;00m}):\n\u001b[0;32m   1242\u001b[0m     fig \u001b[39m=\u001b[39m plt\u001b[39m.\u001b[39mfigure(figsize\u001b[39m=\u001b[39mfigsize)\n\u001b[1;32m-> 1244\u001b[0m axes \u001b[39m=\u001b[39m fig\u001b[39m.\u001b[39;49msubplots(\u001b[39mlen\u001b[39;49m(y_vars), \u001b[39mlen\u001b[39;49m(x_vars),\n\u001b[0;32m   1245\u001b[0m                     sharex\u001b[39m=\u001b[39;49m\u001b[39m\"\u001b[39;49m\u001b[39mcol\u001b[39;49m\u001b[39m\"\u001b[39;49m, sharey\u001b[39m=\u001b[39;49m\u001b[39m\"\u001b[39;49m\u001b[39mrow\u001b[39;49m\u001b[39m\"\u001b[39;49m,\n\u001b[0;32m   1246\u001b[0m                     squeeze\u001b[39m=\u001b[39;49m\u001b[39mFalse\u001b[39;49;00m)\n\u001b[0;32m   1248\u001b[0m \u001b[39m# Possibly remove upper axes to make a corner grid\u001b[39;00m\n\u001b[0;32m   1249\u001b[0m \u001b[39m# Note: setting up the axes is usually the most time-intensive part\u001b[39;00m\n\u001b[0;32m   1250\u001b[0m \u001b[39m# of using the PairGrid. We are foregoing the speed improvement that\u001b[39;00m\n\u001b[0;32m   1251\u001b[0m \u001b[39m# we would get by just not setting up the hidden axes so that we can\u001b[39;00m\n\u001b[0;32m   1252\u001b[0m \u001b[39m# avoid implementing fig.subplots ourselves. But worth thinking about.\u001b[39;00m\n\u001b[0;32m   1253\u001b[0m \u001b[39mself\u001b[39m\u001b[39m.\u001b[39m_corner \u001b[39m=\u001b[39m corner\n",
      "File \u001b[1;32mc:\\Users\\derek\\.virtualenvs\\DataScience-FoTI7s4Z\\lib\\site-packages\\matplotlib\\figure.py:897\u001b[0m, in \u001b[0;36mFigureBase.subplots\u001b[1;34m(self, nrows, ncols, sharex, sharey, squeeze, subplot_kw, gridspec_kw)\u001b[0m\n\u001b[0;32m    895\u001b[0m     gridspec_kw \u001b[39m=\u001b[39m {}\n\u001b[0;32m    896\u001b[0m gs \u001b[39m=\u001b[39m \u001b[39mself\u001b[39m\u001b[39m.\u001b[39madd_gridspec(nrows, ncols, figure\u001b[39m=\u001b[39m\u001b[39mself\u001b[39m, \u001b[39m*\u001b[39m\u001b[39m*\u001b[39mgridspec_kw)\n\u001b[1;32m--> 897\u001b[0m axs \u001b[39m=\u001b[39m gs\u001b[39m.\u001b[39;49msubplots(sharex\u001b[39m=\u001b[39;49msharex, sharey\u001b[39m=\u001b[39;49msharey, squeeze\u001b[39m=\u001b[39;49msqueeze,\n\u001b[0;32m    898\u001b[0m                   subplot_kw\u001b[39m=\u001b[39;49msubplot_kw)\n\u001b[0;32m    899\u001b[0m \u001b[39mreturn\u001b[39;00m axs\n",
      "File \u001b[1;32mc:\\Users\\derek\\.virtualenvs\\DataScience-FoTI7s4Z\\lib\\site-packages\\matplotlib\\gridspec.py:307\u001b[0m, in \u001b[0;36mGridSpecBase.subplots\u001b[1;34m(self, sharex, sharey, squeeze, subplot_kw)\u001b[0m\n\u001b[0;32m    305\u001b[0m         subplot_kw[\u001b[39m\"\u001b[39m\u001b[39msharex\u001b[39m\u001b[39m\"\u001b[39m] \u001b[39m=\u001b[39m shared_with[sharex]\n\u001b[0;32m    306\u001b[0m         subplot_kw[\u001b[39m\"\u001b[39m\u001b[39msharey\u001b[39m\u001b[39m\"\u001b[39m] \u001b[39m=\u001b[39m shared_with[sharey]\n\u001b[1;32m--> 307\u001b[0m         axarr[row, col] \u001b[39m=\u001b[39m figure\u001b[39m.\u001b[39madd_subplot(\n\u001b[0;32m    308\u001b[0m             \u001b[39mself\u001b[39m[row, col], \u001b[39m*\u001b[39m\u001b[39m*\u001b[39msubplot_kw)\n\u001b[0;32m    310\u001b[0m \u001b[39m# turn off redundant tick labeling\u001b[39;00m\n\u001b[0;32m    311\u001b[0m \u001b[39mif\u001b[39;00m sharex \u001b[39min\u001b[39;00m [\u001b[39m\"\u001b[39m\u001b[39mcol\u001b[39m\u001b[39m\"\u001b[39m, \u001b[39m\"\u001b[39m\u001b[39mall\u001b[39m\u001b[39m\"\u001b[39m]:\n",
      "File \u001b[1;32mc:\\Users\\derek\\.virtualenvs\\DataScience-FoTI7s4Z\\lib\\site-packages\\matplotlib\\figure.py:774\u001b[0m, in \u001b[0;36mFigureBase.add_subplot\u001b[1;34m(self, *args, **kwargs)\u001b[0m\n\u001b[0;32m    772\u001b[0m     ax \u001b[39m=\u001b[39m subplot_class_factory(projection_class)(\u001b[39mself\u001b[39m, \u001b[39m*\u001b[39margs, \u001b[39m*\u001b[39m\u001b[39m*\u001b[39mpkw)\n\u001b[0;32m    773\u001b[0m     key \u001b[39m=\u001b[39m (projection_class, pkw)\n\u001b[1;32m--> 774\u001b[0m \u001b[39mreturn\u001b[39;00m \u001b[39mself\u001b[39;49m\u001b[39m.\u001b[39;49m_add_axes_internal(ax, key)\n",
      "File \u001b[1;32mc:\\Users\\derek\\.virtualenvs\\DataScience-FoTI7s4Z\\lib\\site-packages\\matplotlib\\figure.py:780\u001b[0m, in \u001b[0;36mFigureBase._add_axes_internal\u001b[1;34m(self, ax, key)\u001b[0m\n\u001b[0;32m    778\u001b[0m \u001b[39mself\u001b[39m\u001b[39m.\u001b[39m_axstack\u001b[39m.\u001b[39madd(ax)\n\u001b[0;32m    779\u001b[0m \u001b[39mself\u001b[39m\u001b[39m.\u001b[39m_localaxes\u001b[39m.\u001b[39madd(ax)\n\u001b[1;32m--> 780\u001b[0m \u001b[39mself\u001b[39;49m\u001b[39m.\u001b[39;49msca(ax)\n\u001b[0;32m    781\u001b[0m ax\u001b[39m.\u001b[39m_remove_method \u001b[39m=\u001b[39m \u001b[39mself\u001b[39m\u001b[39m.\u001b[39mdelaxes\n\u001b[0;32m    782\u001b[0m \u001b[39m# this is to support plt.subplot's re-selection logic\u001b[39;00m\n",
      "File \u001b[1;32mc:\\Users\\derek\\.virtualenvs\\DataScience-FoTI7s4Z\\lib\\site-packages\\matplotlib\\figure.py:1535\u001b[0m, in \u001b[0;36mFigureBase.sca\u001b[1;34m(self, a)\u001b[0m\n\u001b[0;32m   1533\u001b[0m \u001b[39mdef\u001b[39;00m \u001b[39msca\u001b[39m(\u001b[39mself\u001b[39m, a):\n\u001b[0;32m   1534\u001b[0m     \u001b[39m\"\"\"Set the current Axes to be *a* and return *a*.\"\"\"\u001b[39;00m\n\u001b[1;32m-> 1535\u001b[0m     \u001b[39mself\u001b[39;49m\u001b[39m.\u001b[39;49m_axstack\u001b[39m.\u001b[39;49mbubble(a)\n\u001b[0;32m   1536\u001b[0m     \u001b[39mself\u001b[39m\u001b[39m.\u001b[39m_axobservers\u001b[39m.\u001b[39mprocess(\u001b[39m\"\u001b[39m\u001b[39m_axes_change_event\u001b[39m\u001b[39m\"\u001b[39m, \u001b[39mself\u001b[39m)\n\u001b[0;32m   1537\u001b[0m     \u001b[39mreturn\u001b[39;00m a\n",
      "File \u001b[1;32mc:\\Users\\derek\\.virtualenvs\\DataScience-FoTI7s4Z\\lib\\site-packages\\matplotlib\\figure.py:82\u001b[0m, in \u001b[0;36m_AxesStack.bubble\u001b[1;34m(self, a)\u001b[0m\n\u001b[0;32m     78\u001b[0m \u001b[39mdef\u001b[39;00m \u001b[39mbubble\u001b[39m(\u001b[39mself\u001b[39m, a):\n\u001b[0;32m     79\u001b[0m     \u001b[39m\"\"\"\u001b[39;00m\n\u001b[0;32m     80\u001b[0m \u001b[39m    Move the given axes, which must already exist in the stack, to the top.\u001b[39;00m\n\u001b[0;32m     81\u001b[0m \u001b[39m    \"\"\"\u001b[39;00m\n\u001b[1;32m---> 82\u001b[0m     \u001b[39mreturn\u001b[39;00m \u001b[39msuper\u001b[39;49m()\u001b[39m.\u001b[39;49mbubble(\u001b[39mself\u001b[39;49m\u001b[39m.\u001b[39;49m_entry_from_axes(a))\n",
      "File \u001b[1;32mc:\\Users\\derek\\.virtualenvs\\DataScience-FoTI7s4Z\\lib\\site-packages\\matplotlib\\cbook\\__init__.py:646\u001b[0m, in \u001b[0;36mStack.bubble\u001b[1;34m(self, o)\u001b[0m\n\u001b[0;32m    644\u001b[0m         top_elements\u001b[39m.\u001b[39mappend(elem)\n\u001b[0;32m    645\u001b[0m     \u001b[39melse\u001b[39;00m:\n\u001b[1;32m--> 646\u001b[0m         \u001b[39mself\u001b[39;49m\u001b[39m.\u001b[39;49mpush(elem)\n\u001b[0;32m    647\u001b[0m \u001b[39mfor\u001b[39;00m _ \u001b[39min\u001b[39;00m top_elements:\n\u001b[0;32m    648\u001b[0m     \u001b[39mself\u001b[39m\u001b[39m.\u001b[39mpush(o)\n",
      "File \u001b[1;32mc:\\Users\\derek\\.virtualenvs\\DataScience-FoTI7s4Z\\lib\\site-packages\\matplotlib\\cbook\\__init__.py:606\u001b[0m, in \u001b[0;36mStack.push\u001b[1;34m(self, o)\u001b[0m\n\u001b[0;32m    604\u001b[0m \u001b[39mself\u001b[39m\u001b[39m.\u001b[39m_elements \u001b[39m=\u001b[39m \u001b[39mself\u001b[39m\u001b[39m.\u001b[39m_elements[:\u001b[39mself\u001b[39m\u001b[39m.\u001b[39m_pos \u001b[39m+\u001b[39m \u001b[39m1\u001b[39m] \u001b[39m+\u001b[39m [o]\n\u001b[0;32m    605\u001b[0m \u001b[39mself\u001b[39m\u001b[39m.\u001b[39m_pos \u001b[39m=\u001b[39m \u001b[39mlen\u001b[39m(\u001b[39mself\u001b[39m\u001b[39m.\u001b[39m_elements) \u001b[39m-\u001b[39m \u001b[39m1\u001b[39m\n\u001b[1;32m--> 606\u001b[0m \u001b[39mreturn\u001b[39;00m \u001b[39mself\u001b[39;49m()\n",
      "File \u001b[1;32mc:\\Users\\derek\\.virtualenvs\\DataScience-FoTI7s4Z\\lib\\site-packages\\matplotlib\\figure.py:100\u001b[0m, in \u001b[0;36m_AxesStack.__call__\u001b[1;34m(self)\u001b[0m\n\u001b[0;32m     97\u001b[0m     \u001b[39mself\u001b[39m\u001b[39m.\u001b[39m_ind \u001b[39m+\u001b[39m\u001b[39m=\u001b[39m \u001b[39m1\u001b[39m\n\u001b[0;32m     98\u001b[0m     \u001b[39msuper\u001b[39m()\u001b[39m.\u001b[39mpush((\u001b[39mself\u001b[39m\u001b[39m.\u001b[39m_ind, a))\n\u001b[1;32m--> 100\u001b[0m \u001b[39mdef\u001b[39;00m \u001b[39m__call__\u001b[39m(\u001b[39mself\u001b[39m):\n\u001b[0;32m    101\u001b[0m     \u001b[39m\"\"\"\u001b[39;00m\n\u001b[0;32m    102\u001b[0m \u001b[39m    Return the active axes.\u001b[39;00m\n\u001b[0;32m    103\u001b[0m \n\u001b[0;32m    104\u001b[0m \u001b[39m    If no axes exists on the stack, then returns None.\u001b[39;00m\n\u001b[0;32m    105\u001b[0m \u001b[39m    \"\"\"\u001b[39;00m\n\u001b[0;32m    106\u001b[0m     \u001b[39mif\u001b[39;00m \u001b[39mnot\u001b[39;00m \u001b[39mlen\u001b[39m(\u001b[39mself\u001b[39m\u001b[39m.\u001b[39m_elements):\n",
      "\u001b[1;31mKeyboardInterrupt\u001b[0m: "
     ]
    }
   ],
   "source": [
    "data = pd.read_csv(\"COVID-19_Reported_Patient_Impact_and_Hospital_Capacity_by_Facility.csv\").head(1500)\n",
    "data.columns\n",
    "\n",
    "sns.pairplot(data)\n"
   ]
  }
 ],
 "metadata": {
  "kernelspec": {
   "display_name": "DataScience-FoTI7s4Z",
   "language": "python",
   "name": "python3"
  },
  "language_info": {
   "codemirror_mode": {
    "name": "ipython",
    "version": 3
   },
   "file_extension": ".py",
   "mimetype": "text/x-python",
   "name": "python",
   "nbconvert_exporter": "python",
   "pygments_lexer": "ipython3",
   "version": "3.10.4"
  },
  "orig_nbformat": 4,
  "vscode": {
   "interpreter": {
    "hash": "af53be0080abca7f7fc7946b3f1d00d94a244c712df27b185973700c8ffa0381"
   }
  }
 },
 "nbformat": 4,
 "nbformat_minor": 2
}
