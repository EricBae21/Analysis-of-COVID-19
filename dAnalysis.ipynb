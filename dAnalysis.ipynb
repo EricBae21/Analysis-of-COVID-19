{
 "cells": [
  {
   "cell_type": "code",
   "execution_count": 2,
   "metadata": {},
   "outputs": [],
   "source": [
    "import numpy as np\n",
    "import pandas as pd\n",
    "import matplotlib.pyplot as plt\n",
    "import seaborn as sns\n"
   ]
  },
  {
   "cell_type": "code",
   "execution_count": 3,
   "metadata": {},
   "outputs": [
    {
     "name": "stderr",
     "output_type": "stream",
     "text": [
      "C:\\Users\\derek\\AppData\\Local\\Temp\\ipykernel_16568\\1762180571.py:1: DtypeWarning: Columns (0,3) have mixed types. Specify dtype option on import or set low_memory=False.\n",
      "  data = pd.read_csv(\"COVID-19_Reported_Patient_Impact_and_Hospital_Capacity_by_Facility.csv\").head(1500).sort_values(['state'])\n"
     ]
    }
   ],
   "source": [
    "data = pd.read_csv(\"COVID-19_Reported_Patient_Impact_and_Hospital_Capacity_by_Facility.csv\").head(1500).sort_values(['state'])"
   ]
  },
  {
   "cell_type": "code",
   "execution_count": 4,
   "metadata": {},
   "outputs": [
    {
     "data": {
      "text/plain": [
       "['hospital_pk',\n",
       " 'collection_week',\n",
       " 'state',\n",
       " 'ccn',\n",
       " 'hospital_name',\n",
       " 'address',\n",
       " 'city',\n",
       " 'zip',\n",
       " 'hospital_subtype',\n",
       " 'fips_code',\n",
       " 'is_metro_micro',\n",
       " 'total_beds_7_day_avg',\n",
       " 'all_adult_hospital_beds_7_day_avg',\n",
       " 'all_adult_hospital_inpatient_beds_7_day_avg',\n",
       " 'inpatient_beds_used_7_day_avg',\n",
       " 'all_adult_hospital_inpatient_bed_occupied_7_day_avg',\n",
       " 'inpatient_beds_used_covid_7_day_avg',\n",
       " 'total_adult_patients_hospitalized_confirmed_and_suspected_covid_7_day_avg',\n",
       " 'total_adult_patients_hospitalized_confirmed_covid_7_day_avg',\n",
       " 'total_pediatric_patients_hospitalized_confirmed_and_suspected_covid_7_day_avg',\n",
       " 'total_pediatric_patients_hospitalized_confirmed_covid_7_day_avg',\n",
       " 'inpatient_beds_7_day_avg',\n",
       " 'total_icu_beds_7_day_avg',\n",
       " 'total_staffed_adult_icu_beds_7_day_avg',\n",
       " 'icu_beds_used_7_day_avg',\n",
       " 'staffed_adult_icu_bed_occupancy_7_day_avg',\n",
       " 'staffed_icu_adult_patients_confirmed_and_suspected_covid_7_day_avg',\n",
       " 'staffed_icu_adult_patients_confirmed_covid_7_day_avg',\n",
       " 'total_patients_hospitalized_confirmed_influenza_7_day_avg',\n",
       " 'icu_patients_confirmed_influenza_7_day_avg',\n",
       " 'total_patients_hospitalized_confirmed_influenza_and_covid_7_day_avg',\n",
       " 'total_beds_7_day_sum',\n",
       " 'all_adult_hospital_beds_7_day_sum',\n",
       " 'all_adult_hospital_inpatient_beds_7_day_sum',\n",
       " 'inpatient_beds_used_7_day_sum',\n",
       " 'all_adult_hospital_inpatient_bed_occupied_7_day_sum',\n",
       " 'inpatient_beds_used_covid_7_day_sum',\n",
       " 'total_adult_patients_hospitalized_confirmed_and_suspected_covid_7_day_sum',\n",
       " 'total_adult_patients_hospitalized_confirmed_covid_7_day_sum',\n",
       " 'total_pediatric_patients_hospitalized_confirmed_and_suspected_covid_7_day_sum',\n",
       " 'total_pediatric_patients_hospitalized_confirmed_covid_7_day_sum',\n",
       " 'inpatient_beds_7_day_sum',\n",
       " 'total_icu_beds_7_day_sum',\n",
       " 'total_staffed_adult_icu_beds_7_day_sum',\n",
       " 'icu_beds_used_7_day_sum',\n",
       " 'staffed_adult_icu_bed_occupancy_7_day_sum',\n",
       " 'staffed_icu_adult_patients_confirmed_and_suspected_covid_7_day_sum',\n",
       " 'staffed_icu_adult_patients_confirmed_covid_7_day_sum',\n",
       " 'total_patients_hospitalized_confirmed_influenza_7_day_sum',\n",
       " 'icu_patients_confirmed_influenza_7_day_sum',\n",
       " 'total_patients_hospitalized_confirmed_influenza_and_covid_7_day_sum',\n",
       " 'total_beds_7_day_coverage',\n",
       " 'all_adult_hospital_beds_7_day_coverage',\n",
       " 'all_adult_hospital_inpatient_beds_7_day_coverage',\n",
       " 'inpatient_beds_used_7_day_coverage',\n",
       " 'all_adult_hospital_inpatient_bed_occupied_7_day_coverage',\n",
       " 'inpatient_beds_used_covid_7_day_coverage',\n",
       " 'total_adult_patients_hospitalized_confirmed_and_suspected_covid_7_day_coverage',\n",
       " 'total_adult_patients_hospitalized_confirmed_covid_7_day_coverage',\n",
       " 'total_pediatric_patients_hospitalized_confirmed_and_suspected_covid_7_day_coverage',\n",
       " 'total_pediatric_patients_hospitalized_confirmed_covid_7_day_coverage',\n",
       " 'inpatient_beds_7_day_coverage',\n",
       " 'total_icu_beds_7_day_coverage',\n",
       " 'total_staffed_adult_icu_beds_7_day_coverage',\n",
       " 'icu_beds_used_7_day_coverage',\n",
       " 'staffed_adult_icu_bed_occupancy_7_day_coverage',\n",
       " 'staffed_icu_adult_patients_confirmed_and_suspected_covid_7_day_coverage',\n",
       " 'staffed_icu_adult_patients_confirmed_covid_7_day_coverage',\n",
       " 'total_patients_hospitalized_confirmed_influenza_7_day_coverage',\n",
       " 'icu_patients_confirmed_influenza_7_day_coverage',\n",
       " 'total_patients_hospitalized_confirmed_influenza_and_covid_7_day_coverage',\n",
       " 'previous_day_admission_adult_covid_confirmed_7_day_sum',\n",
       " 'previous_day_admission_adult_covid_confirmed_18-19_7_day_sum',\n",
       " 'previous_day_admission_adult_covid_confirmed_20-29_7_day_sum',\n",
       " 'previous_day_admission_adult_covid_confirmed_30-39_7_day_sum',\n",
       " 'previous_day_admission_adult_covid_confirmed_40-49_7_day_sum',\n",
       " 'previous_day_admission_adult_covid_confirmed_50-59_7_day_sum',\n",
       " 'previous_day_admission_adult_covid_confirmed_60-69_7_day_sum',\n",
       " 'previous_day_admission_adult_covid_confirmed_70-79_7_day_sum',\n",
       " 'previous_day_admission_adult_covid_confirmed_80+_7_day_sum',\n",
       " 'previous_day_admission_adult_covid_confirmed_unknown_7_day_sum',\n",
       " 'previous_day_admission_pediatric_covid_confirmed_7_day_sum',\n",
       " 'previous_day_covid_ED_visits_7_day_sum',\n",
       " 'previous_day_admission_adult_covid_suspected_7_day_sum',\n",
       " 'previous_day_admission_adult_covid_suspected_18-19_7_day_sum',\n",
       " 'previous_day_admission_adult_covid_suspected_20-29_7_day_sum',\n",
       " 'previous_day_admission_adult_covid_suspected_30-39_7_day_sum',\n",
       " 'previous_day_admission_adult_covid_suspected_40-49_7_day_sum',\n",
       " 'previous_day_admission_adult_covid_suspected_50-59_7_day_sum',\n",
       " 'previous_day_admission_adult_covid_suspected_60-69_7_day_sum',\n",
       " 'previous_day_admission_adult_covid_suspected_70-79_7_day_sum',\n",
       " 'previous_day_admission_adult_covid_suspected_80+_7_day_sum',\n",
       " 'previous_day_admission_adult_covid_suspected_unknown_7_day_sum',\n",
       " 'previous_day_admission_pediatric_covid_suspected_7_day_sum',\n",
       " 'previous_day_total_ED_visits_7_day_sum',\n",
       " 'previous_day_admission_influenza_confirmed_7_day_sum',\n",
       " 'geocoded_hospital_address',\n",
       " 'hhs_ids',\n",
       " 'previous_day_admission_adult_covid_confirmed_7_day_coverage',\n",
       " 'previous_day_admission_pediatric_covid_confirmed_7_day_coverage',\n",
       " 'previous_day_admission_adult_covid_suspected_7_day_coverage',\n",
       " 'previous_day_admission_pediatric_covid_suspected_7_day_coverage',\n",
       " 'previous_week_personnel_covid_vaccinated_doses_administered_7_day',\n",
       " 'total_personnel_covid_vaccinated_doses_none_7_day',\n",
       " 'total_personnel_covid_vaccinated_doses_one_7_day',\n",
       " 'total_personnel_covid_vaccinated_doses_all_7_day',\n",
       " 'previous_week_patients_covid_vaccinated_doses_one_7_day',\n",
       " 'previous_week_patients_covid_vaccinated_doses_all_7_day',\n",
       " 'is_corrected',\n",
       " 'all_pediatric_inpatient_bed_occupied_7_day_avg',\n",
       " 'all_pediatric_inpatient_bed_occupied_7_day_coverage',\n",
       " 'all_pediatric_inpatient_bed_occupied_7_day_sum',\n",
       " 'all_pediatric_inpatient_beds_7_day_avg',\n",
       " 'all_pediatric_inpatient_beds_7_day_coverage',\n",
       " 'all_pediatric_inpatient_beds_7_day_sum',\n",
       " 'previous_day_admission_pediatric_covid_confirmed_0_4_7_day_sum',\n",
       " 'previous_day_admission_pediatric_covid_confirmed_12_17_7_day_sum',\n",
       " 'previous_day_admission_pediatric_covid_confirmed_5_11_7_day_sum',\n",
       " 'previous_day_admission_pediatric_covid_confirmed_unknown_7_day_sum',\n",
       " 'staffed_icu_pediatric_patients_confirmed_covid_7_day_avg',\n",
       " 'staffed_icu_pediatric_patients_confirmed_covid_7_day_coverage',\n",
       " 'staffed_icu_pediatric_patients_confirmed_covid_7_day_sum',\n",
       " 'staffed_pediatric_icu_bed_occupancy_7_day_avg',\n",
       " 'staffed_pediatric_icu_bed_occupancy_7_day_coverage',\n",
       " 'staffed_pediatric_icu_bed_occupancy_7_day_sum',\n",
       " 'total_staffed_pediatric_icu_beds_7_day_avg',\n",
       " 'total_staffed_pediatric_icu_beds_7_day_coverage',\n",
       " 'total_staffed_pediatric_icu_beds_7_day_sum']"
      ]
     },
     "execution_count": 4,
     "metadata": {},
     "output_type": "execute_result"
    }
   ],
   "source": [
    "data.columns.values.tolist()"
   ]
  },
  {
   "attachments": {},
   "cell_type": "markdown",
   "metadata": {},
   "source": [
    "## Data Processing for State"
   ]
  },
  {
   "cell_type": "code",
   "execution_count": 5,
   "metadata": {},
   "outputs": [
    {
     "data": {
      "text/html": [
       "<div>\n",
       "<style scoped>\n",
       "    .dataframe tbody tr th:only-of-type {\n",
       "        vertical-align: middle;\n",
       "    }\n",
       "\n",
       "    .dataframe tbody tr th {\n",
       "        vertical-align: top;\n",
       "    }\n",
       "\n",
       "    .dataframe thead th {\n",
       "        text-align: right;\n",
       "    }\n",
       "</style>\n",
       "<table border=\"1\" class=\"dataframe\">\n",
       "  <thead>\n",
       "    <tr style=\"text-align: right;\">\n",
       "      <th></th>\n",
       "      <th>inpatient_beds_used_covid_7_day_sum</th>\n",
       "      <th>total_beds_7_day_sum</th>\n",
       "      <th>all_pediatric_inpatient_beds_7_day_sum</th>\n",
       "      <th>total_patients_hospitalized_confirmed_influenza_and_covid_7_day_coverage</th>\n",
       "    </tr>\n",
       "  </thead>\n",
       "  <tbody>\n",
       "    <tr>\n",
       "      <th>1354</th>\n",
       "      <td>NaN</td>\n",
       "      <td>11.0</td>\n",
       "      <td>NaN</td>\n",
       "      <td>0</td>\n",
       "    </tr>\n",
       "    <tr>\n",
       "      <th>227</th>\n",
       "      <td>NaN</td>\n",
       "      <td>707.0</td>\n",
       "      <td>NaN</td>\n",
       "      <td>0</td>\n",
       "    </tr>\n",
       "    <tr>\n",
       "      <th>1353</th>\n",
       "      <td>45.0</td>\n",
       "      <td>954.0</td>\n",
       "      <td>NaN</td>\n",
       "      <td>0</td>\n",
       "    </tr>\n",
       "    <tr>\n",
       "      <th>806</th>\n",
       "      <td>0.0</td>\n",
       "      <td>100.0</td>\n",
       "      <td>NaN</td>\n",
       "      <td>0</td>\n",
       "    </tr>\n",
       "    <tr>\n",
       "      <th>1112</th>\n",
       "      <td>0.0</td>\n",
       "      <td>60.0</td>\n",
       "      <td>NaN</td>\n",
       "      <td>0</td>\n",
       "    </tr>\n",
       "    <tr>\n",
       "      <th>...</th>\n",
       "      <td>...</td>\n",
       "      <td>...</td>\n",
       "      <td>...</td>\n",
       "      <td>...</td>\n",
       "    </tr>\n",
       "    <tr>\n",
       "      <th>1345</th>\n",
       "      <td>0.0</td>\n",
       "      <td>343.0</td>\n",
       "      <td>NaN</td>\n",
       "      <td>0</td>\n",
       "    </tr>\n",
       "    <tr>\n",
       "      <th>1342</th>\n",
       "      <td>0.0</td>\n",
       "      <td>104.0</td>\n",
       "      <td>NaN</td>\n",
       "      <td>0</td>\n",
       "    </tr>\n",
       "    <tr>\n",
       "      <th>1343</th>\n",
       "      <td>18.0</td>\n",
       "      <td>534.0</td>\n",
       "      <td>NaN</td>\n",
       "      <td>0</td>\n",
       "    </tr>\n",
       "    <tr>\n",
       "      <th>217</th>\n",
       "      <td>51.0</td>\n",
       "      <td>1128.0</td>\n",
       "      <td>NaN</td>\n",
       "      <td>0</td>\n",
       "    </tr>\n",
       "    <tr>\n",
       "      <th>1344</th>\n",
       "      <td>-999999.0</td>\n",
       "      <td>175.0</td>\n",
       "      <td>NaN</td>\n",
       "      <td>0</td>\n",
       "    </tr>\n",
       "  </tbody>\n",
       "</table>\n",
       "<p>1500 rows × 4 columns</p>\n",
       "</div>"
      ],
      "text/plain": [
       "      inpatient_beds_used_covid_7_day_sum  total_beds_7_day_sum  \\\n",
       "1354                                  NaN                  11.0   \n",
       "227                                   NaN                 707.0   \n",
       "1353                                 45.0                 954.0   \n",
       "806                                   0.0                 100.0   \n",
       "1112                                  0.0                  60.0   \n",
       "...                                   ...                   ...   \n",
       "1345                                  0.0                 343.0   \n",
       "1342                                  0.0                 104.0   \n",
       "1343                                 18.0                 534.0   \n",
       "217                                  51.0                1128.0   \n",
       "1344                            -999999.0                 175.0   \n",
       "\n",
       "      all_pediatric_inpatient_beds_7_day_sum  \\\n",
       "1354                                     NaN   \n",
       "227                                      NaN   \n",
       "1353                                     NaN   \n",
       "806                                      NaN   \n",
       "1112                                     NaN   \n",
       "...                                      ...   \n",
       "1345                                     NaN   \n",
       "1342                                     NaN   \n",
       "1343                                     NaN   \n",
       "217                                      NaN   \n",
       "1344                                     NaN   \n",
       "\n",
       "      total_patients_hospitalized_confirmed_influenza_and_covid_7_day_coverage  \n",
       "1354                                                  0                         \n",
       "227                                                   0                         \n",
       "1353                                                  0                         \n",
       "806                                                   0                         \n",
       "1112                                                  0                         \n",
       "...                                                 ...                         \n",
       "1345                                                  0                         \n",
       "1342                                                  0                         \n",
       "1343                                                  0                         \n",
       "217                                                   0                         \n",
       "1344                                                  0                         \n",
       "\n",
       "[1500 rows x 4 columns]"
      ]
     },
     "execution_count": 5,
     "metadata": {},
     "output_type": "execute_result"
    }
   ],
   "source": [
    "sliced = data[['inpatient_beds_used_covid_7_day_sum', 'total_beds_7_day_sum', 'all_pediatric_inpatient_beds_7_day_sum', 'total_patients_hospitalized_confirmed_influenza_and_covid_7_day_coverage']]\n",
    "sliced"
   ]
  },
  {
   "cell_type": "code",
   "execution_count": 6,
   "metadata": {},
   "outputs": [],
   "source": [
    "sliced['inpatient_beds_used_covid_7_day_sum'].isna().sum()\n",
    "(sliced['inpatient_beds_used_covid_7_day_sum'] < 0).sum()\n",
    "\n",
    "def ifZero(x):\n",
    "    if x < 0:\n",
    "        return 0\n",
    "    return x"
   ]
  },
  {
   "cell_type": "code",
   "execution_count": 7,
   "metadata": {},
   "outputs": [
    {
     "data": {
      "text/plain": [
       "1353    45.0\n",
       "806      0.0\n",
       "1112     0.0\n",
       "564     24.0\n",
       "561     33.0\n",
       "        ... \n",
       "1345     0.0\n",
       "1342     0.0\n",
       "1343    18.0\n",
       "217     51.0\n",
       "1344     0.0\n",
       "Name: inpatient_beds_used_covid_7_day_sum, Length: 1401, dtype: float64"
      ]
     },
     "execution_count": 7,
     "metadata": {},
     "output_type": "execute_result"
    }
   ],
   "source": [
    "psliced = sliced['inpatient_beds_used_covid_7_day_sum'].dropna().apply(ifZero)\n",
    "psliced"
   ]
  },
  {
   "cell_type": "code",
   "execution_count": 8,
   "metadata": {},
   "outputs": [
    {
     "data": {
      "text/plain": [
       "1354      11.0\n",
       "227      707.0\n",
       "1353     954.0\n",
       "806      100.0\n",
       "1112      60.0\n",
       "         ...  \n",
       "1345     343.0\n",
       "1342     104.0\n",
       "1343     534.0\n",
       "217     1128.0\n",
       "1344     175.0\n",
       "Name: total_beds_7_day_sum, Length: 1101, dtype: float64"
      ]
     },
     "execution_count": 8,
     "metadata": {},
     "output_type": "execute_result"
    }
   ],
   "source": [
    "ptotal_beds = sliced['total_beds_7_day_sum'].dropna().apply(ifZero)\n",
    "ptotal_beds"
   ]
  },
  {
   "cell_type": "code",
   "execution_count": 9,
   "metadata": {},
   "outputs": [
    {
     "data": {
      "text/html": [
       "<div>\n",
       "<style scoped>\n",
       "    .dataframe tbody tr th:only-of-type {\n",
       "        vertical-align: middle;\n",
       "    }\n",
       "\n",
       "    .dataframe tbody tr th {\n",
       "        vertical-align: top;\n",
       "    }\n",
       "\n",
       "    .dataframe thead th {\n",
       "        text-align: right;\n",
       "    }\n",
       "</style>\n",
       "<table border=\"1\" class=\"dataframe\">\n",
       "  <thead>\n",
       "    <tr style=\"text-align: right;\">\n",
       "      <th></th>\n",
       "      <th>inpatient_beds_used_covid_7_day_sum</th>\n",
       "      <th>total_beds_7_day_sum</th>\n",
       "    </tr>\n",
       "  </thead>\n",
       "  <tbody>\n",
       "    <tr>\n",
       "      <th>1353</th>\n",
       "      <td>45.0</td>\n",
       "      <td>954.0</td>\n",
       "    </tr>\n",
       "    <tr>\n",
       "      <th>806</th>\n",
       "      <td>0.0</td>\n",
       "      <td>100.0</td>\n",
       "    </tr>\n",
       "    <tr>\n",
       "      <th>1112</th>\n",
       "      <td>0.0</td>\n",
       "      <td>60.0</td>\n",
       "    </tr>\n",
       "    <tr>\n",
       "      <th>564</th>\n",
       "      <td>24.0</td>\n",
       "      <td>864.0</td>\n",
       "    </tr>\n",
       "    <tr>\n",
       "      <th>561</th>\n",
       "      <td>33.0</td>\n",
       "      <td>889.0</td>\n",
       "    </tr>\n",
       "    <tr>\n",
       "      <th>...</th>\n",
       "      <td>...</td>\n",
       "      <td>...</td>\n",
       "    </tr>\n",
       "    <tr>\n",
       "      <th>1345</th>\n",
       "      <td>0.0</td>\n",
       "      <td>343.0</td>\n",
       "    </tr>\n",
       "    <tr>\n",
       "      <th>1342</th>\n",
       "      <td>0.0</td>\n",
       "      <td>104.0</td>\n",
       "    </tr>\n",
       "    <tr>\n",
       "      <th>1343</th>\n",
       "      <td>18.0</td>\n",
       "      <td>534.0</td>\n",
       "    </tr>\n",
       "    <tr>\n",
       "      <th>217</th>\n",
       "      <td>51.0</td>\n",
       "      <td>1128.0</td>\n",
       "    </tr>\n",
       "    <tr>\n",
       "      <th>1344</th>\n",
       "      <td>0.0</td>\n",
       "      <td>175.0</td>\n",
       "    </tr>\n",
       "  </tbody>\n",
       "</table>\n",
       "<p>1401 rows × 2 columns</p>\n",
       "</div>"
      ],
      "text/plain": [
       "      inpatient_beds_used_covid_7_day_sum  total_beds_7_day_sum\n",
       "1353                                 45.0                 954.0\n",
       "806                                   0.0                 100.0\n",
       "1112                                  0.0                  60.0\n",
       "564                                  24.0                 864.0\n",
       "561                                  33.0                 889.0\n",
       "...                                   ...                   ...\n",
       "1345                                  0.0                 343.0\n",
       "1342                                  0.0                 104.0\n",
       "1343                                 18.0                 534.0\n",
       "217                                  51.0                1128.0\n",
       "1344                                  0.0                 175.0\n",
       "\n",
       "[1401 rows x 2 columns]"
      ]
     },
     "execution_count": 9,
     "metadata": {},
     "output_type": "execute_result"
    }
   ],
   "source": [
    "pdf = psliced.to_frame().join(ptotal_beds)\n",
    "pdf"
   ]
  },
  {
   "attachments": {},
   "cell_type": "markdown",
   "metadata": {},
   "source": [
    "Determine if there are linear correlations?"
   ]
  },
  {
   "cell_type": "code",
   "execution_count": 10,
   "metadata": {},
   "outputs": [
    {
     "data": {
      "text/plain": [
       "array([45.,  0.,  0., ..., 18., 51.,  0.])"
      ]
     },
     "execution_count": 10,
     "metadata": {},
     "output_type": "execute_result"
    }
   ],
   "source": [
    "y = np.array(pdf['inpatient_beds_used_covid_7_day_sum'])\n",
    "y"
   ]
  },
  {
   "cell_type": "code",
   "execution_count": 16,
   "metadata": {},
   "outputs": [
    {
     "name": "stderr",
     "output_type": "stream",
     "text": [
      "C:\\Users\\derek\\AppData\\Local\\Temp\\ipykernel_16568\\2715823183.py:2: RuntimeWarning: divide by zero encountered in log\n",
      "  X_1 = np.log(X_1)\n"
     ]
    }
   ],
   "source": [
    "X_1 = np.array(pdf['total_beds_7_day_sum'])\n",
    "X_1 = np.log(X_1)"
   ]
  },
  {
   "attachments": {},
   "cell_type": "markdown",
   "metadata": {},
   "source": [
    "## Logorithmic relationship between X_1 and y"
   ]
  },
  {
   "cell_type": "code",
   "execution_count": 20,
   "metadata": {},
   "outputs": [
    {
     "name": "stderr",
     "output_type": "stream",
     "text": [
      "C:\\Users\\derek\\AppData\\Local\\Temp\\ipykernel_16568\\336350411.py:1: RuntimeWarning: divide by zero encountered in log\n",
      "  plt.scatter(X_1, np.log(y))\n"
     ]
    },
    {
     "data": {
      "text/plain": [
       "<matplotlib.collections.PathCollection at 0x21f405b4670>"
      ]
     },
     "execution_count": 20,
     "metadata": {},
     "output_type": "execute_result"
    },
    {
     "data": {
      "image/png": "[encoded data removed]",
      "text/plain": [
       "<Figure size 432x288 with 1 Axes>"
      ]
     },
     "metadata": {
      "needs_background": "light"
     },
     "output_type": "display_data"
    }
   ],
   "source": [
    "plt.scatter(X_1, np.log(y))"
   ]
  }
 ],
 "metadata": {
  "kernelspec": {
   "display_name": "DataScience-FoTI7s4Z",
   "language": "python",
   "name": "python3"
  },
  "language_info": {
   "codemirror_mode": {
    "name": "ipython",
    "version": 3
   },
   "file_extension": ".py",
   "mimetype": "text/x-python",
   "name": "python",
   "nbconvert_exporter": "python",
   "pygments_lexer": "ipython3",
   "version": "3.10.4"
  },
  "orig_nbformat": 4,
  "vscode": {
   "interpreter": {
    "hash": "af53be0080abca7f7fc7946b3f1d00d94a244c712df27b185973700c8ffa0381"
   }
  }
 },
 "nbformat": 4,
 "nbformat_minor": 2
}
