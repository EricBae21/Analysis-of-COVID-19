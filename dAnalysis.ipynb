{
 "cells": [
  {
   "cell_type": "code",
   "execution_count": 2,
   "metadata": {},
   "outputs": [],
   "source": [
    "import numpy as np\n",
    "import pandas as pd\n",
    "import matplotlib.pyplot as plt\n",
    "import seaborn as sns\n"
   ]
  },
  {
   "cell_type": "code",
   "execution_count": 152,
   "metadata": {},
   "outputs": [
    {
     "name": "stderr",
     "output_type": "stream",
     "text": [
      "C:\\Users\\derek\\AppData\\Local\\Temp\\ipykernel_16568\\4087525321.py:1: DtypeWarning: Columns (0,3) have mixed types. Specify dtype option on import or set low_memory=False.\n",
      "  data = pd.read_csv(\"COVID-19_Reported_Patient_Impact_and_Hospital_Capacity_by_Facility.csv\").head(10000).sort_values(['state'])\n"
     ]
    }
   ],
   "source": [
    "data = pd.read_csv(\"COVID-19_Reported_Patient_Impact_and_Hospital_Capacity_by_Facility.csv\").head(10000).sort_values(['state'])"
   ]
  },
  {
   "cell_type": "code",
   "execution_count": 88,
   "metadata": {},
   "outputs": [
    {
     "data": {
      "text/html": [
       "<div>\n",
       "<style scoped>\n",
       "    .dataframe tbody tr th:only-of-type {\n",
       "        vertical-align: middle;\n",
       "    }\n",
       "\n",
       "    .dataframe tbody tr th {\n",
       "        vertical-align: top;\n",
       "    }\n",
       "\n",
       "    .dataframe thead th {\n",
       "        text-align: right;\n",
       "    }\n",
       "</style>\n",
       "<table border=\"1\" class=\"dataframe\">\n",
       "  <thead>\n",
       "    <tr style=\"text-align: right;\">\n",
       "      <th></th>\n",
       "      <th>hospital_pk</th>\n",
       "      <th>collection_week</th>\n",
       "      <th>state</th>\n",
       "      <th>ccn</th>\n",
       "      <th>hospital_name</th>\n",
       "      <th>address</th>\n",
       "      <th>city</th>\n",
       "      <th>zip</th>\n",
       "      <th>hospital_subtype</th>\n",
       "      <th>fips_code</th>\n",
       "      <th>...</th>\n",
       "      <th>previous_day_admission_pediatric_covid_confirmed_unknown_7_day_sum</th>\n",
       "      <th>staffed_icu_pediatric_patients_confirmed_covid_7_day_avg</th>\n",
       "      <th>staffed_icu_pediatric_patients_confirmed_covid_7_day_coverage</th>\n",
       "      <th>staffed_icu_pediatric_patients_confirmed_covid_7_day_sum</th>\n",
       "      <th>staffed_pediatric_icu_bed_occupancy_7_day_avg</th>\n",
       "      <th>staffed_pediatric_icu_bed_occupancy_7_day_coverage</th>\n",
       "      <th>staffed_pediatric_icu_bed_occupancy_7_day_sum</th>\n",
       "      <th>total_staffed_pediatric_icu_beds_7_day_avg</th>\n",
       "      <th>total_staffed_pediatric_icu_beds_7_day_coverage</th>\n",
       "      <th>total_staffed_pediatric_icu_beds_7_day_sum</th>\n",
       "    </tr>\n",
       "  </thead>\n",
       "  <tbody>\n",
       "    <tr>\n",
       "      <th>1354</th>\n",
       "      <td>021302</td>\n",
       "      <td>2020/03/27</td>\n",
       "      <td>AK</td>\n",
       "      <td>021302</td>\n",
       "      <td>PROVIDENCE SEWARD MEDICAL CENTER</td>\n",
       "      <td>417 FIRST AVENUE, PO BOX 365</td>\n",
       "      <td>SEWARD</td>\n",
       "      <td>99664.0</td>\n",
       "      <td>Critical Access Hospitals</td>\n",
       "      <td>2210.0</td>\n",
       "      <td>...</td>\n",
       "      <td>NaN</td>\n",
       "      <td>NaN</td>\n",
       "      <td>0</td>\n",
       "      <td>NaN</td>\n",
       "      <td>NaN</td>\n",
       "      <td>0</td>\n",
       "      <td>NaN</td>\n",
       "      <td>NaN</td>\n",
       "      <td>0</td>\n",
       "      <td>NaN</td>\n",
       "    </tr>\n",
       "    <tr>\n",
       "      <th>2764</th>\n",
       "      <td>021307</td>\n",
       "      <td>2020/05/08</td>\n",
       "      <td>AK</td>\n",
       "      <td>021307</td>\n",
       "      <td>CORDOVA COMMUNITY MEDICAL CENTER</td>\n",
       "      <td>PO BOX 160 - 602 CHASE AVENUE</td>\n",
       "      <td>CORDOVA</td>\n",
       "      <td>99574.0</td>\n",
       "      <td>Critical Access Hospitals</td>\n",
       "      <td>2080.0</td>\n",
       "      <td>...</td>\n",
       "      <td>NaN</td>\n",
       "      <td>NaN</td>\n",
       "      <td>0</td>\n",
       "      <td>NaN</td>\n",
       "      <td>NaN</td>\n",
       "      <td>0</td>\n",
       "      <td>NaN</td>\n",
       "      <td>NaN</td>\n",
       "      <td>0</td>\n",
       "      <td>NaN</td>\n",
       "    </tr>\n",
       "    <tr>\n",
       "      <th>4892</th>\n",
       "      <td>021302</td>\n",
       "      <td>2020/07/03</td>\n",
       "      <td>AK</td>\n",
       "      <td>021302</td>\n",
       "      <td>PROVIDENCE SEWARD MEDICAL CENTER</td>\n",
       "      <td>417 FIRST AVENUE, PO BOX 365</td>\n",
       "      <td>SEWARD</td>\n",
       "      <td>99664.0</td>\n",
       "      <td>Critical Access Hospitals</td>\n",
       "      <td>2210.0</td>\n",
       "      <td>...</td>\n",
       "      <td>NaN</td>\n",
       "      <td>NaN</td>\n",
       "      <td>0</td>\n",
       "      <td>NaN</td>\n",
       "      <td>NaN</td>\n",
       "      <td>0</td>\n",
       "      <td>NaN</td>\n",
       "      <td>NaN</td>\n",
       "      <td>0</td>\n",
       "      <td>NaN</td>\n",
       "    </tr>\n",
       "    <tr>\n",
       "      <th>3825</th>\n",
       "      <td>021304</td>\n",
       "      <td>2020/03/27</td>\n",
       "      <td>AK</td>\n",
       "      <td>021304</td>\n",
       "      <td>PETERSBURG MEDICAL CENTER</td>\n",
       "      <td>PO BOX 589</td>\n",
       "      <td>PETERSBURG</td>\n",
       "      <td>99833.0</td>\n",
       "      <td>Critical Access Hospitals</td>\n",
       "      <td>2280.0</td>\n",
       "      <td>...</td>\n",
       "      <td>NaN</td>\n",
       "      <td>NaN</td>\n",
       "      <td>0</td>\n",
       "      <td>NaN</td>\n",
       "      <td>NaN</td>\n",
       "      <td>0</td>\n",
       "      <td>NaN</td>\n",
       "      <td>NaN</td>\n",
       "      <td>0</td>\n",
       "      <td>NaN</td>\n",
       "    </tr>\n",
       "    <tr>\n",
       "      <th>4329</th>\n",
       "      <td>020006</td>\n",
       "      <td>2020/05/08</td>\n",
       "      <td>AK</td>\n",
       "      <td>020006</td>\n",
       "      <td>MAT-SU REGIONAL MEDICAL CENTER</td>\n",
       "      <td>2500 SOUTH WOODWORTH LOOP</td>\n",
       "      <td>PALMER</td>\n",
       "      <td>99645.0</td>\n",
       "      <td>Short Term</td>\n",
       "      <td>2170.0</td>\n",
       "      <td>...</td>\n",
       "      <td>NaN</td>\n",
       "      <td>NaN</td>\n",
       "      <td>0</td>\n",
       "      <td>NaN</td>\n",
       "      <td>NaN</td>\n",
       "      <td>0</td>\n",
       "      <td>NaN</td>\n",
       "      <td>NaN</td>\n",
       "      <td>0</td>\n",
       "      <td>NaN</td>\n",
       "    </tr>\n",
       "  </tbody>\n",
       "</table>\n",
       "<p>5 rows × 128 columns</p>\n",
       "</div>"
      ],
      "text/plain": [
       "     hospital_pk collection_week state     ccn  \\\n",
       "1354      021302      2020/03/27    AK  021302   \n",
       "2764      021307      2020/05/08    AK  021307   \n",
       "4892      021302      2020/07/03    AK  021302   \n",
       "3825      021304      2020/03/27    AK  021304   \n",
       "4329      020006      2020/05/08    AK  020006   \n",
       "\n",
       "                         hospital_name                        address  \\\n",
       "1354  PROVIDENCE SEWARD MEDICAL CENTER   417 FIRST AVENUE, PO BOX 365   \n",
       "2764  CORDOVA COMMUNITY MEDICAL CENTER  PO BOX 160 - 602 CHASE AVENUE   \n",
       "4892  PROVIDENCE SEWARD MEDICAL CENTER   417 FIRST AVENUE, PO BOX 365   \n",
       "3825         PETERSBURG MEDICAL CENTER                     PO BOX 589   \n",
       "4329    MAT-SU REGIONAL MEDICAL CENTER      2500 SOUTH WOODWORTH LOOP   \n",
       "\n",
       "            city      zip           hospital_subtype  fips_code  ...  \\\n",
       "1354      SEWARD  99664.0  Critical Access Hospitals     2210.0  ...   \n",
       "2764     CORDOVA  99574.0  Critical Access Hospitals     2080.0  ...   \n",
       "4892      SEWARD  99664.0  Critical Access Hospitals     2210.0  ...   \n",
       "3825  PETERSBURG  99833.0  Critical Access Hospitals     2280.0  ...   \n",
       "4329      PALMER  99645.0                 Short Term     2170.0  ...   \n",
       "\n",
       "      previous_day_admission_pediatric_covid_confirmed_unknown_7_day_sum  \\\n",
       "1354                                                NaN                    \n",
       "2764                                                NaN                    \n",
       "4892                                                NaN                    \n",
       "3825                                                NaN                    \n",
       "4329                                                NaN                    \n",
       "\n",
       "      staffed_icu_pediatric_patients_confirmed_covid_7_day_avg  \\\n",
       "1354                                                NaN          \n",
       "2764                                                NaN          \n",
       "4892                                                NaN          \n",
       "3825                                                NaN          \n",
       "4329                                                NaN          \n",
       "\n",
       "      staffed_icu_pediatric_patients_confirmed_covid_7_day_coverage  \\\n",
       "1354                                                  0               \n",
       "2764                                                  0               \n",
       "4892                                                  0               \n",
       "3825                                                  0               \n",
       "4329                                                  0               \n",
       "\n",
       "      staffed_icu_pediatric_patients_confirmed_covid_7_day_sum  \\\n",
       "1354                                                NaN          \n",
       "2764                                                NaN          \n",
       "4892                                                NaN          \n",
       "3825                                                NaN          \n",
       "4329                                                NaN          \n",
       "\n",
       "      staffed_pediatric_icu_bed_occupancy_7_day_avg  \\\n",
       "1354                                            NaN   \n",
       "2764                                            NaN   \n",
       "4892                                            NaN   \n",
       "3825                                            NaN   \n",
       "4329                                            NaN   \n",
       "\n",
       "      staffed_pediatric_icu_bed_occupancy_7_day_coverage  \\\n",
       "1354                                                  0    \n",
       "2764                                                  0    \n",
       "4892                                                  0    \n",
       "3825                                                  0    \n",
       "4329                                                  0    \n",
       "\n",
       "      staffed_pediatric_icu_bed_occupancy_7_day_sum  \\\n",
       "1354                                            NaN   \n",
       "2764                                            NaN   \n",
       "4892                                            NaN   \n",
       "3825                                            NaN   \n",
       "4329                                            NaN   \n",
       "\n",
       "      total_staffed_pediatric_icu_beds_7_day_avg  \\\n",
       "1354                                         NaN   \n",
       "2764                                         NaN   \n",
       "4892                                         NaN   \n",
       "3825                                         NaN   \n",
       "4329                                         NaN   \n",
       "\n",
       "      total_staffed_pediatric_icu_beds_7_day_coverage  \\\n",
       "1354                                                0   \n",
       "2764                                                0   \n",
       "4892                                                0   \n",
       "3825                                                0   \n",
       "4329                                                0   \n",
       "\n",
       "      total_staffed_pediatric_icu_beds_7_day_sum  \n",
       "1354                                         NaN  \n",
       "2764                                         NaN  \n",
       "4892                                         NaN  \n",
       "3825                                         NaN  \n",
       "4329                                         NaN  \n",
       "\n",
       "[5 rows x 128 columns]"
      ]
     },
     "execution_count": 88,
     "metadata": {},
     "output_type": "execute_result"
    }
   ],
   "source": [
    "data.head()"
   ]
  },
  {
   "cell_type": "code",
   "execution_count": 153,
   "metadata": {},
   "outputs": [
    {
     "data": {
      "text/plain": [
       "9693   -999999.0\n",
       "9130   -999999.0\n",
       "9406   -999999.0\n",
       "9082   -999999.0\n",
       "9132   -999999.0\n",
       "          ...   \n",
       "9267       106.0\n",
       "9787       108.0\n",
       "9830       120.0\n",
       "9814       157.0\n",
       "9153       194.0\n",
       "Name: total_patients_hospitalized_confirmed_influenza_7_day_sum, Length: 802, dtype: float64"
      ]
     },
     "execution_count": 153,
     "metadata": {},
     "output_type": "execute_result"
    }
   ],
   "source": [
    "data['total_patients_hospitalized_confirmed_influenza_7_day_sum'].sort_values().dropna()"
   ]
  },
  {
   "attachments": {},
   "cell_type": "markdown",
   "metadata": {},
   "source": [
    "## Data Processing for State"
   ]
  },
  {
   "cell_type": "code",
   "execution_count": 144,
   "metadata": {},
   "outputs": [
    {
     "data": {
      "text/html": [
       "<div>\n",
       "<style scoped>\n",
       "    .dataframe tbody tr th:only-of-type {\n",
       "        vertical-align: middle;\n",
       "    }\n",
       "\n",
       "    .dataframe tbody tr th {\n",
       "        vertical-align: top;\n",
       "    }\n",
       "\n",
       "    .dataframe thead th {\n",
       "        text-align: right;\n",
       "    }\n",
       "</style>\n",
       "<table border=\"1\" class=\"dataframe\">\n",
       "  <thead>\n",
       "    <tr style=\"text-align: right;\">\n",
       "      <th></th>\n",
       "      <th>inpatient_beds_used_covid_7_day_sum</th>\n",
       "      <th>all_adult_hospital_inpatient_beds_7_day_sum</th>\n",
       "      <th>total_beds_7_day_sum</th>\n",
       "      <th>inpatient_beds_used_7_day_sum</th>\n",
       "      <th>inpatient_beds_7_day_sum</th>\n",
       "    </tr>\n",
       "  </thead>\n",
       "  <tbody>\n",
       "    <tr>\n",
       "      <th>1354</th>\n",
       "      <td>NaN</td>\n",
       "      <td>NaN</td>\n",
       "      <td>11.0</td>\n",
       "      <td>0.0</td>\n",
       "      <td>11.0</td>\n",
       "    </tr>\n",
       "    <tr>\n",
       "      <th>2764</th>\n",
       "      <td>0.0</td>\n",
       "      <td>NaN</td>\n",
       "      <td>91.0</td>\n",
       "      <td>12.0</td>\n",
       "      <td>91.0</td>\n",
       "    </tr>\n",
       "    <tr>\n",
       "      <th>4892</th>\n",
       "      <td>0.0</td>\n",
       "      <td>NaN</td>\n",
       "      <td>97.0</td>\n",
       "      <td>-999999.0</td>\n",
       "      <td>77.0</td>\n",
       "    </tr>\n",
       "    <tr>\n",
       "      <th>3825</th>\n",
       "      <td>NaN</td>\n",
       "      <td>NaN</td>\n",
       "      <td>12.0</td>\n",
       "      <td>4.0</td>\n",
       "      <td>12.0</td>\n",
       "    </tr>\n",
       "    <tr>\n",
       "      <th>4329</th>\n",
       "      <td>33.0</td>\n",
       "      <td>NaN</td>\n",
       "      <td>672.0</td>\n",
       "      <td>487.0</td>\n",
       "      <td>612.0</td>\n",
       "    </tr>\n",
       "    <tr>\n",
       "      <th>...</th>\n",
       "      <td>...</td>\n",
       "      <td>...</td>\n",
       "      <td>...</td>\n",
       "      <td>...</td>\n",
       "      <td>...</td>\n",
       "    </tr>\n",
       "    <tr>\n",
       "      <th>3280</th>\n",
       "      <td>0.0</td>\n",
       "      <td>NaN</td>\n",
       "      <td>112.0</td>\n",
       "      <td>27.0</td>\n",
       "      <td>112.0</td>\n",
       "    </tr>\n",
       "    <tr>\n",
       "      <th>3279</th>\n",
       "      <td>15.0</td>\n",
       "      <td>NaN</td>\n",
       "      <td>623.0</td>\n",
       "      <td>212.0</td>\n",
       "      <td>413.0</td>\n",
       "    </tr>\n",
       "    <tr>\n",
       "      <th>3278</th>\n",
       "      <td>-999999.0</td>\n",
       "      <td>NaN</td>\n",
       "      <td>448.0</td>\n",
       "      <td>156.0</td>\n",
       "      <td>448.0</td>\n",
       "    </tr>\n",
       "    <tr>\n",
       "      <th>2471</th>\n",
       "      <td>11.0</td>\n",
       "      <td>NaN</td>\n",
       "      <td>623.0</td>\n",
       "      <td>145.0</td>\n",
       "      <td>413.0</td>\n",
       "    </tr>\n",
       "    <tr>\n",
       "      <th>217</th>\n",
       "      <td>51.0</td>\n",
       "      <td>NaN</td>\n",
       "      <td>1128.0</td>\n",
       "      <td>517.0</td>\n",
       "      <td>1058.0</td>\n",
       "    </tr>\n",
       "  </tbody>\n",
       "</table>\n",
       "<p>5000 rows × 5 columns</p>\n",
       "</div>"
      ],
      "text/plain": [
       "      inpatient_beds_used_covid_7_day_sum  \\\n",
       "1354                                  NaN   \n",
       "2764                                  0.0   \n",
       "4892                                  0.0   \n",
       "3825                                  NaN   \n",
       "4329                                 33.0   \n",
       "...                                   ...   \n",
       "3280                                  0.0   \n",
       "3279                                 15.0   \n",
       "3278                            -999999.0   \n",
       "2471                                 11.0   \n",
       "217                                  51.0   \n",
       "\n",
       "      all_adult_hospital_inpatient_beds_7_day_sum  total_beds_7_day_sum  \\\n",
       "1354                                          NaN                  11.0   \n",
       "2764                                          NaN                  91.0   \n",
       "4892                                          NaN                  97.0   \n",
       "3825                                          NaN                  12.0   \n",
       "4329                                          NaN                 672.0   \n",
       "...                                           ...                   ...   \n",
       "3280                                          NaN                 112.0   \n",
       "3279                                          NaN                 623.0   \n",
       "3278                                          NaN                 448.0   \n",
       "2471                                          NaN                 623.0   \n",
       "217                                           NaN                1128.0   \n",
       "\n",
       "      inpatient_beds_used_7_day_sum  inpatient_beds_7_day_sum  \n",
       "1354                            0.0                      11.0  \n",
       "2764                           12.0                      91.0  \n",
       "4892                      -999999.0                      77.0  \n",
       "3825                            4.0                      12.0  \n",
       "4329                          487.0                     612.0  \n",
       "...                             ...                       ...  \n",
       "3280                           27.0                     112.0  \n",
       "3279                          212.0                     413.0  \n",
       "3278                          156.0                     448.0  \n",
       "2471                          145.0                     413.0  \n",
       "217                           517.0                    1058.0  \n",
       "\n",
       "[5000 rows x 5 columns]"
      ]
     },
     "execution_count": 144,
     "metadata": {},
     "output_type": "execute_result"
    }
   ],
   "source": [
    "sliced = data[['inpatient_beds_used_covid_7_day_sum', \n",
    "\n",
    "                'all_adult_hospital_inpatient_beds_7_day_sum',\n",
    "                'total_beds_7_day_sum', \n",
    "                'inpatient_beds_used_7_day_sum', 'inpatient_beds_7_day_sum']]\n",
    "sliced"
   ]
  },
  {
   "cell_type": "code",
   "execution_count": 29,
   "metadata": {},
   "outputs": [],
   "source": [
    "sliced['inpatient_beds_used_covid_7_day_sum'].isna().sum()\n",
    "(sliced['inpatient_beds_used_covid_7_day_sum'] < 0).sum()\n",
    "\n",
    "def ifZero(x):\n",
    "    if x < 0:\n",
    "        return 0\n",
    "    return x"
   ]
  },
  {
   "cell_type": "code",
   "execution_count": 111,
   "metadata": {},
   "outputs": [
    {
     "data": {
      "text/html": [
       "<div>\n",
       "<style scoped>\n",
       "    .dataframe tbody tr th:only-of-type {\n",
       "        vertical-align: middle;\n",
       "    }\n",
       "\n",
       "    .dataframe tbody tr th {\n",
       "        vertical-align: top;\n",
       "    }\n",
       "\n",
       "    .dataframe thead th {\n",
       "        text-align: right;\n",
       "    }\n",
       "</style>\n",
       "<table border=\"1\" class=\"dataframe\">\n",
       "  <thead>\n",
       "    <tr style=\"text-align: right;\">\n",
       "      <th></th>\n",
       "      <th>inpatient_beds_used_covid_7_day_sum</th>\n",
       "      <th>total_beds_7_day_sum</th>\n",
       "      <th>inpatient_beds_used_7_day_sum</th>\n",
       "      <th>inpatient_beds_7_day_sum</th>\n",
       "    </tr>\n",
       "  </thead>\n",
       "  <tbody>\n",
       "    <tr>\n",
       "      <th>2764</th>\n",
       "      <td>0.0</td>\n",
       "      <td>91.0</td>\n",
       "      <td>12.0</td>\n",
       "      <td>91.0</td>\n",
       "    </tr>\n",
       "    <tr>\n",
       "      <th>4892</th>\n",
       "      <td>0.0</td>\n",
       "      <td>97.0</td>\n",
       "      <td>0.0</td>\n",
       "      <td>77.0</td>\n",
       "    </tr>\n",
       "    <tr>\n",
       "      <th>4329</th>\n",
       "      <td>33.0</td>\n",
       "      <td>672.0</td>\n",
       "      <td>487.0</td>\n",
       "      <td>612.0</td>\n",
       "    </tr>\n",
       "    <tr>\n",
       "      <th>1684</th>\n",
       "      <td>0.0</td>\n",
       "      <td>420.0</td>\n",
       "      <td>89.0</td>\n",
       "      <td>355.0</td>\n",
       "    </tr>\n",
       "    <tr>\n",
       "      <th>1683</th>\n",
       "      <td>0.0</td>\n",
       "      <td>84.0</td>\n",
       "      <td>5.0</td>\n",
       "      <td>84.0</td>\n",
       "    </tr>\n",
       "    <tr>\n",
       "      <th>...</th>\n",
       "      <td>...</td>\n",
       "      <td>...</td>\n",
       "      <td>...</td>\n",
       "      <td>...</td>\n",
       "    </tr>\n",
       "    <tr>\n",
       "      <th>3280</th>\n",
       "      <td>0.0</td>\n",
       "      <td>112.0</td>\n",
       "      <td>27.0</td>\n",
       "      <td>112.0</td>\n",
       "    </tr>\n",
       "    <tr>\n",
       "      <th>3279</th>\n",
       "      <td>15.0</td>\n",
       "      <td>623.0</td>\n",
       "      <td>212.0</td>\n",
       "      <td>413.0</td>\n",
       "    </tr>\n",
       "    <tr>\n",
       "      <th>3278</th>\n",
       "      <td>0.0</td>\n",
       "      <td>448.0</td>\n",
       "      <td>156.0</td>\n",
       "      <td>448.0</td>\n",
       "    </tr>\n",
       "    <tr>\n",
       "      <th>2471</th>\n",
       "      <td>11.0</td>\n",
       "      <td>623.0</td>\n",
       "      <td>145.0</td>\n",
       "      <td>413.0</td>\n",
       "    </tr>\n",
       "    <tr>\n",
       "      <th>217</th>\n",
       "      <td>51.0</td>\n",
       "      <td>1128.0</td>\n",
       "      <td>517.0</td>\n",
       "      <td>1058.0</td>\n",
       "    </tr>\n",
       "  </tbody>\n",
       "</table>\n",
       "<p>3592 rows × 4 columns</p>\n",
       "</div>"
      ],
      "text/plain": [
       "      inpatient_beds_used_covid_7_day_sum  total_beds_7_day_sum  \\\n",
       "2764                                  0.0                  91.0   \n",
       "4892                                  0.0                  97.0   \n",
       "4329                                 33.0                 672.0   \n",
       "1684                                  0.0                 420.0   \n",
       "1683                                  0.0                  84.0   \n",
       "...                                   ...                   ...   \n",
       "3280                                  0.0                 112.0   \n",
       "3279                                 15.0                 623.0   \n",
       "3278                                  0.0                 448.0   \n",
       "2471                                 11.0                 623.0   \n",
       "217                                  51.0                1128.0   \n",
       "\n",
       "      inpatient_beds_used_7_day_sum  inpatient_beds_7_day_sum  \n",
       "2764                           12.0                      91.0  \n",
       "4892                            0.0                      77.0  \n",
       "4329                          487.0                     612.0  \n",
       "1684                           89.0                     355.0  \n",
       "1683                            5.0                      84.0  \n",
       "...                             ...                       ...  \n",
       "3280                           27.0                     112.0  \n",
       "3279                          212.0                     413.0  \n",
       "3278                          156.0                     448.0  \n",
       "2471                          145.0                     413.0  \n",
       "217                           517.0                    1058.0  \n",
       "\n",
       "[3592 rows x 4 columns]"
      ]
     },
     "execution_count": 111,
     "metadata": {},
     "output_type": "execute_result"
    }
   ],
   "source": [
    "psliced = sliced.dropna()\n",
    "psliced= psliced.applymap(lambda x: ifZero(x))\n",
    "psliced"
   ]
  },
  {
   "attachments": {},
   "cell_type": "markdown",
   "metadata": {},
   "source": [
    "Determine if there are linear correlations?"
   ]
  },
  {
   "cell_type": "code",
   "execution_count": 112,
   "metadata": {},
   "outputs": [
    {
     "data": {
      "text/plain": [
       "array([ 0.,  0., 33., ...,  0., 11., 51.])"
      ]
     },
     "execution_count": 112,
     "metadata": {},
     "output_type": "execute_result"
    }
   ],
   "source": [
    "y = np.array(psliced['inpatient_beds_used_covid_7_day_sum'])\n",
    "y"
   ]
  },
  {
   "cell_type": "code",
   "execution_count": 134,
   "metadata": {},
   "outputs": [],
   "source": [
    "X_1 = np.array(psliced['total_beds_7_day_sum'])\n",
    "\n",
    "X_2 = np.array(psliced['inpatient_beds_used_7_day_sum'])\n",
    "X_3 = np.array(psliced['inpatient_beds_7_day_sum'])\n",
    "\n",
    "\n",
    "X_1 = X_1\n",
    "# X_2 = np.log(X_2)"
   ]
  },
  {
   "attachments": {},
   "cell_type": "markdown",
   "metadata": {},
   "source": [
    "## Logorithmic relationship between X_1 and y"
   ]
  },
  {
   "cell_type": "code",
   "execution_count": 154,
   "metadata": {},
   "outputs": [
    {
     "name": "stderr",
     "output_type": "stream",
     "text": [
      "C:\\Users\\derek\\AppData\\Local\\Temp\\ipykernel_16568\\3021494527.py:1: RuntimeWarning: divide by zero encountered in log\n",
      "  plt.scatter(np.log(X_1), np.log(y))\n"
     ]
    },
    {
     "data": {
      "text/plain": [
       "<matplotlib.collections.PathCollection at 0x21f0a8c13c0>"
      ]
     },
     "execution_count": 154,
     "metadata": {},
     "output_type": "execute_result"
    },
    {
     "data": {
      "image/png": "[encoded data removed]",
      "text/plain": [
       "<Figure size 432x288 with 1 Axes>"
      ]
     },
     "metadata": {
      "needs_background": "light"
     },
     "output_type": "display_data"
    }
   ],
   "source": [
    "plt.scatter(np.log(X_1), np.log(y))"
   ]
  },
  {
   "cell_type": "code",
   "execution_count": 140,
   "metadata": {},
   "outputs": [
    {
     "name": "stderr",
     "output_type": "stream",
     "text": [
      "C:\\Users\\derek\\AppData\\Local\\Temp\\ipykernel_16568\\3357389379.py:1: RuntimeWarning: divide by zero encountered in log\n",
      "  plt.scatter(np.log(X_2), np.log(y), color='red')\n"
     ]
    },
    {
     "data": {
      "text/plain": [
       "<matplotlib.collections.PathCollection at 0x21f054a4250>"
      ]
     },
     "execution_count": 140,
     "metadata": {},
     "output_type": "execute_result"
    },
    {
     "data": {
      "image/png": "[encoded data removed]",
      "text/plain": [
       "<Figure size 432x288 with 1 Axes>"
      ]
     },
     "metadata": {
      "needs_background": "light"
     },
     "output_type": "display_data"
    }
   ],
   "source": [
    "plt.scatter(np.log(X_2), np.log(y), color='red')"
   ]
  },
  {
   "cell_type": "code",
   "execution_count": 142,
   "metadata": {},
   "outputs": [
    {
     "name": "stderr",
     "output_type": "stream",
     "text": [
      "C:\\Users\\derek\\AppData\\Local\\Temp\\ipykernel_16568\\3451929315.py:1: RuntimeWarning: divide by zero encountered in log\n",
      "  plt.scatter(np.log(X_3), np.log(y), color='green')\n"
     ]
    },
    {
     "data": {
      "text/plain": [
       "<matplotlib.collections.PathCollection at 0x21f053f0670>"
      ]
     },
     "execution_count": 142,
     "metadata": {},
     "output_type": "execute_result"
    },
    {
     "data": {
      "image/png": "[encoded data removed]",
      "text/plain": [
       "<Figure size 432x288 with 1 Axes>"
      ]
     },
     "metadata": {
      "needs_background": "light"
     },
     "output_type": "display_data"
    }
   ],
   "source": [
    "plt.scatter(np.log(X_3), np.log(y), color='green')"
   ]
  },
  {
   "cell_type": "code",
   "execution_count": null,
   "metadata": {},
   "outputs": [],
   "source": []
  },
  {
   "attachments": {},
   "cell_type": "markdown",
   "metadata": {},
   "source": [
    "## NOTE: using avg has less clustering effect than sum!"
   ]
  }
 ],
 "metadata": {
  "kernelspec": {
   "display_name": "DataScience-FoTI7s4Z",
   "language": "python",
   "name": "python3"
  },
  "language_info": {
   "codemirror_mode": {
    "name": "ipython",
    "version": 3
   },
   "file_extension": ".py",
   "mimetype": "text/x-python",
   "name": "python",
   "nbconvert_exporter": "python",
   "pygments_lexer": "ipython3",
   "version": "3.10.4"
  },
  "orig_nbformat": 4,
  "vscode": {
   "interpreter": {
    "hash": "af53be0080abca7f7fc7946b3f1d00d94a244c712df27b185973700c8ffa0381"
   }
  }
 },
 "nbformat": 4,
 "nbformat_minor": 2
}
