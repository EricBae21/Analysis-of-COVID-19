{
 "cells": [
  {
   "cell_type": "code",
   "execution_count": 1,
   "metadata": {},
   "outputs": [],
   "source": [
    "import pandas as pd\n",
    "import numpy as np\n",
    "import matplotlib as plt\n",
    "import seaborn as sns"
   ]
  },
  {
   "cell_type": "code",
   "execution_count": 9,
   "metadata": {},
   "outputs": [
    {
     "name": "stderr",
     "output_type": "stream",
     "text": [
      "/var/folders/4b/fs5kk0d122z5x0642bv_41q80000gn/T/ipykernel_76592/1583238864.py:1: DtypeWarning: Columns (0,3) have mixed types. Specify dtype option on import or set low_memory=False.\n",
      "  data = pd.read_csv(\"COVID-19_Reported_Patient_Impact_and_Hospital_Capacity_by_Facility.csv\").head(1500)\n"
     ]
    },
    {
     "data": {
      "text/plain": [
       "Index(['hospital_pk', 'collection_week', 'state', 'ccn', 'hospital_name',\n",
       "       'address', 'city', 'zip', 'hospital_subtype', 'fips_code',\n",
       "       ...\n",
       "       'previous_day_admission_pediatric_covid_confirmed_unknown_7_day_sum',\n",
       "       'staffed_icu_pediatric_patients_confirmed_covid_7_day_avg',\n",
       "       'staffed_icu_pediatric_patients_confirmed_covid_7_day_coverage',\n",
       "       'staffed_icu_pediatric_patients_confirmed_covid_7_day_sum',\n",
       "       'staffed_pediatric_icu_bed_occupancy_7_day_avg',\n",
       "       'staffed_pediatric_icu_bed_occupancy_7_day_coverage',\n",
       "       'staffed_pediatric_icu_bed_occupancy_7_day_sum',\n",
       "       'total_staffed_pediatric_icu_beds_7_day_avg',\n",
       "       'total_staffed_pediatric_icu_beds_7_day_coverage',\n",
       "       'total_staffed_pediatric_icu_beds_7_day_sum'],\n",
       "      dtype='object', length=128)"
      ]
     },
     "execution_count": 9,
     "metadata": {},
     "output_type": "execute_result"
    }
   ],
   "source": [
    "data = pd.read_csv(\"COVID-19_Reported_Patient_Impact_and_Hospital_Capacity_by_Facility.csv\").head(1500)\n",
    "data.columns\n",
    "\n"
   ]
  },
  {
   "cell_type": "code",
   "execution_count": 10,
   "metadata": {},
   "outputs": [
    {
     "data": {
      "text/html": [
       "<div>\n",
       "<style scoped>\n",
       "    .dataframe tbody tr th:only-of-type {\n",
       "        vertical-align: middle;\n",
       "    }\n",
       "\n",
       "    .dataframe tbody tr th {\n",
       "        vertical-align: top;\n",
       "    }\n",
       "\n",
       "    .dataframe thead th {\n",
       "        text-align: right;\n",
       "    }\n",
       "</style>\n",
       "<table border=\"1\" class=\"dataframe\">\n",
       "  <thead>\n",
       "    <tr style=\"text-align: right;\">\n",
       "      <th></th>\n",
       "      <th>city</th>\n",
       "      <th>state</th>\n",
       "    </tr>\n",
       "  </thead>\n",
       "  <tbody>\n",
       "    <tr>\n",
       "      <th>0</th>\n",
       "      <td>PERRIS</td>\n",
       "      <td>CA</td>\n",
       "    </tr>\n",
       "    <tr>\n",
       "      <th>1</th>\n",
       "      <td>BRANFORD</td>\n",
       "      <td>CT</td>\n",
       "    </tr>\n",
       "    <tr>\n",
       "      <th>2</th>\n",
       "      <td>MIAMI BEACH</td>\n",
       "      <td>FL</td>\n",
       "    </tr>\n",
       "    <tr>\n",
       "      <th>3</th>\n",
       "      <td>TAMPA</td>\n",
       "      <td>FL</td>\n",
       "    </tr>\n",
       "    <tr>\n",
       "      <th>4</th>\n",
       "      <td>VENICE</td>\n",
       "      <td>FL</td>\n",
       "    </tr>\n",
       "  </tbody>\n",
       "</table>\n",
       "</div>"
      ],
      "text/plain": [
       "          city state\n",
       "0       PERRIS    CA\n",
       "1     BRANFORD    CT\n",
       "2  MIAMI BEACH    FL\n",
       "3        TAMPA    FL\n",
       "4       VENICE    FL"
      ]
     },
     "execution_count": 10,
     "metadata": {},
     "output_type": "execute_result"
    }
   ],
   "source": [
    "data.head()\n",
    "data[[\"city\",\"state\"]].head()"
   ]
  }
 ],
 "metadata": {
  "kernelspec": {
   "display_name": "Python 3.10.0 64-bit",
   "language": "python",
   "name": "python3"
  },
  "language_info": {
   "codemirror_mode": {
    "name": "ipython",
    "version": 3
   },
   "file_extension": ".py",
   "mimetype": "text/x-python",
   "name": "python",
   "nbconvert_exporter": "python",
   "pygments_lexer": "ipython3",
   "version": "3.10.0"
  },
  "orig_nbformat": 4,
  "vscode": {
   "interpreter": {
    "hash": "aee8b7b246df8f9039afb4144a1f6fd8d2ca17a180786b69acc140d282b71a49"
   }
  }
 },
 "nbformat": 4,
 "nbformat_minor": 2
}
