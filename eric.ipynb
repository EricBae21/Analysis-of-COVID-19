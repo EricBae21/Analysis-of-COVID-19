{
 "cells": [
  {
   "cell_type": "code",
   "execution_count": 6,
   "metadata": {},
   "outputs": [],
   "source": [
    "import pandas as pd\n",
    "import numpy as np\n",
    "import matplotlib as plt\n",
    "import seaborn as sns"
   ]
  },
  {
   "cell_type": "code",
   "execution_count": 7,
   "metadata": {},
   "outputs": [
    {
     "name": "stderr",
     "output_type": "stream",
     "text": [
      "C:\\Users\\derek\\AppData\\Local\\Temp\\ipykernel_1412\\3166592748.py:1: DtypeWarning: Columns (0,3) have mixed types. Specify dtype option on import or set low_memory=False.\n",
      "  data = pd.read_csv(\"COVID-19_Reported_Patient_Impact_and_Hospital_Capacity_by_Facility.csv\").head(1500)\n"
     ]
    }
   ],
   "source": [
    "data = pd.read_csv(\"COVID-19_Reported_Patient_Impact_and_Hospital_Capacity_by_Facility.csv\").head(1500)\n",
    "data.columns\n",
    "\n",
    "sns.pairplot(data)\n"
   ]
  }
 ],
 "metadata": {
  "kernelspec": {
   "display_name": "DataScience-FoTI7s4Z",
   "language": "python",
   "name": "python3"
  },
  "language_info": {
   "codemirror_mode": {
    "name": "ipython",
    "version": 3
   },
   "file_extension": ".py",
   "mimetype": "text/x-python",
   "name": "python",
   "nbconvert_exporter": "python",
   "pygments_lexer": "ipython3",
   "version": "3.10.4"
  },
  "orig_nbformat": 4,
  "vscode": {
   "interpreter": {
    "hash": "af53be0080abca7f7fc7946b3f1d00d94a244c712df27b185973700c8ffa0381"
   }
  }
 },
 "nbformat": 4,
 "nbformat_minor": 2
}
